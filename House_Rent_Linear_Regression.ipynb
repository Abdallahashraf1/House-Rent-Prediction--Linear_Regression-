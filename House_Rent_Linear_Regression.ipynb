{
 "cells": [
  {
   "cell_type": "markdown",
   "id": "77e609ad",
   "metadata": {
    "papermill": {
     "duration": 0.023758,
     "end_time": "2022-10-11T20:32:57.481668",
     "exception": false,
     "start_time": "2022-10-11T20:32:57.457910",
     "status": "completed"
    },
    "tags": []
   },
   "source": []
  },
  {
   "cell_type": "code",
   "execution_count": 1,
   "id": "54b23998",
   "metadata": {
    "execution": {
     "iopub.execute_input": "2022-10-11T20:32:57.523168Z",
     "iopub.status.busy": "2022-10-11T20:32:57.522713Z",
     "iopub.status.idle": "2022-10-11T20:32:58.778849Z",
     "shell.execute_reply": "2022-10-11T20:32:58.777897Z"
    },
    "papermill": {
     "duration": 1.280255,
     "end_time": "2022-10-11T20:32:58.781723",
     "exception": false,
     "start_time": "2022-10-11T20:32:57.501468",
     "status": "completed"
    },
    "tags": []
   },
   "outputs": [],
   "source": [
    "import pandas as pd\n",
    "import numpy as np\n",
    "import seaborn as sns\n",
    "import matplotlib.pyplot as plt\n",
    "%matplotlib inline\n",
    "from sklearn import preprocessing\n"
   ]
  },
  {
   "cell_type": "code",
   "execution_count": 2,
   "id": "06fba762",
   "metadata": {
    "execution": {
     "iopub.execute_input": "2022-10-11T20:32:58.823517Z",
     "iopub.status.busy": "2022-10-11T20:32:58.822500Z",
     "iopub.status.idle": "2022-10-11T20:32:58.868263Z",
     "shell.execute_reply": "2022-10-11T20:32:58.867118Z"
    },
    "papermill": {
     "duration": 0.070085,
     "end_time": "2022-10-11T20:32:58.871651",
     "exception": false,
     "start_time": "2022-10-11T20:32:58.801566",
     "status": "completed"
    },
    "tags": []
   },
   "outputs": [],
   "source": [
    "df=pd.read_csv(\"../input/house-rent-prediction-dataset/House_Rent_Dataset.csv\")\n"
   ]
  },
  {
   "cell_type": "code",
   "execution_count": 3,
   "id": "133b5ce2",
   "metadata": {
    "execution": {
     "iopub.execute_input": "2022-10-11T20:32:58.930396Z",
     "iopub.status.busy": "2022-10-11T20:32:58.929510Z",
     "iopub.status.idle": "2022-10-11T20:32:58.955749Z",
     "shell.execute_reply": "2022-10-11T20:32:58.954591Z"
    },
    "papermill": {
     "duration": 0.057545,
     "end_time": "2022-10-11T20:32:58.958823",
     "exception": false,
     "start_time": "2022-10-11T20:32:58.901278",
     "status": "completed"
    },
    "tags": []
   },
   "outputs": [
    {
     "data": {
      "text/html": [
       "<div>\n",
       "<style scoped>\n",
       "    .dataframe tbody tr th:only-of-type {\n",
       "        vertical-align: middle;\n",
       "    }\n",
       "\n",
       "    .dataframe tbody tr th {\n",
       "        vertical-align: top;\n",
       "    }\n",
       "\n",
       "    .dataframe thead th {\n",
       "        text-align: right;\n",
       "    }\n",
       "</style>\n",
       "<table border=\"1\" class=\"dataframe\">\n",
       "  <thead>\n",
       "    <tr style=\"text-align: right;\">\n",
       "      <th></th>\n",
       "      <th>Posted On</th>\n",
       "      <th>BHK</th>\n",
       "      <th>Rent</th>\n",
       "      <th>Size</th>\n",
       "      <th>Floor</th>\n",
       "      <th>Area Type</th>\n",
       "      <th>Area Locality</th>\n",
       "      <th>City</th>\n",
       "      <th>Furnishing Status</th>\n",
       "      <th>Tenant Preferred</th>\n",
       "      <th>Bathroom</th>\n",
       "      <th>Point of Contact</th>\n",
       "    </tr>\n",
       "  </thead>\n",
       "  <tbody>\n",
       "    <tr>\n",
       "      <th>0</th>\n",
       "      <td>2022-05-18</td>\n",
       "      <td>2</td>\n",
       "      <td>10000</td>\n",
       "      <td>1100</td>\n",
       "      <td>Ground out of 2</td>\n",
       "      <td>Super Area</td>\n",
       "      <td>Bandel</td>\n",
       "      <td>Kolkata</td>\n",
       "      <td>Unfurnished</td>\n",
       "      <td>Bachelors/Family</td>\n",
       "      <td>2</td>\n",
       "      <td>Contact Owner</td>\n",
       "    </tr>\n",
       "    <tr>\n",
       "      <th>1</th>\n",
       "      <td>2022-05-13</td>\n",
       "      <td>2</td>\n",
       "      <td>20000</td>\n",
       "      <td>800</td>\n",
       "      <td>1 out of 3</td>\n",
       "      <td>Super Area</td>\n",
       "      <td>Phool Bagan, Kankurgachi</td>\n",
       "      <td>Kolkata</td>\n",
       "      <td>Semi-Furnished</td>\n",
       "      <td>Bachelors/Family</td>\n",
       "      <td>1</td>\n",
       "      <td>Contact Owner</td>\n",
       "    </tr>\n",
       "    <tr>\n",
       "      <th>2</th>\n",
       "      <td>2022-05-16</td>\n",
       "      <td>2</td>\n",
       "      <td>17000</td>\n",
       "      <td>1000</td>\n",
       "      <td>1 out of 3</td>\n",
       "      <td>Super Area</td>\n",
       "      <td>Salt Lake City Sector 2</td>\n",
       "      <td>Kolkata</td>\n",
       "      <td>Semi-Furnished</td>\n",
       "      <td>Bachelors/Family</td>\n",
       "      <td>1</td>\n",
       "      <td>Contact Owner</td>\n",
       "    </tr>\n",
       "    <tr>\n",
       "      <th>3</th>\n",
       "      <td>2022-07-04</td>\n",
       "      <td>2</td>\n",
       "      <td>10000</td>\n",
       "      <td>800</td>\n",
       "      <td>1 out of 2</td>\n",
       "      <td>Super Area</td>\n",
       "      <td>Dumdum Park</td>\n",
       "      <td>Kolkata</td>\n",
       "      <td>Unfurnished</td>\n",
       "      <td>Bachelors/Family</td>\n",
       "      <td>1</td>\n",
       "      <td>Contact Owner</td>\n",
       "    </tr>\n",
       "    <tr>\n",
       "      <th>4</th>\n",
       "      <td>2022-05-09</td>\n",
       "      <td>2</td>\n",
       "      <td>7500</td>\n",
       "      <td>850</td>\n",
       "      <td>1 out of 2</td>\n",
       "      <td>Carpet Area</td>\n",
       "      <td>South Dum Dum</td>\n",
       "      <td>Kolkata</td>\n",
       "      <td>Unfurnished</td>\n",
       "      <td>Bachelors</td>\n",
       "      <td>1</td>\n",
       "      <td>Contact Owner</td>\n",
       "    </tr>\n",
       "  </tbody>\n",
       "</table>\n",
       "</div>"
      ],
      "text/plain": [
       "    Posted On  BHK   Rent  Size            Floor    Area Type  \\\n",
       "0  2022-05-18    2  10000  1100  Ground out of 2   Super Area   \n",
       "1  2022-05-13    2  20000   800       1 out of 3   Super Area   \n",
       "2  2022-05-16    2  17000  1000       1 out of 3   Super Area   \n",
       "3  2022-07-04    2  10000   800       1 out of 2   Super Area   \n",
       "4  2022-05-09    2   7500   850       1 out of 2  Carpet Area   \n",
       "\n",
       "              Area Locality     City Furnishing Status  Tenant Preferred  \\\n",
       "0                    Bandel  Kolkata       Unfurnished  Bachelors/Family   \n",
       "1  Phool Bagan, Kankurgachi  Kolkata    Semi-Furnished  Bachelors/Family   \n",
       "2   Salt Lake City Sector 2  Kolkata    Semi-Furnished  Bachelors/Family   \n",
       "3               Dumdum Park  Kolkata       Unfurnished  Bachelors/Family   \n",
       "4             South Dum Dum  Kolkata       Unfurnished         Bachelors   \n",
       "\n",
       "   Bathroom Point of Contact  \n",
       "0         2    Contact Owner  \n",
       "1         1    Contact Owner  \n",
       "2         1    Contact Owner  \n",
       "3         1    Contact Owner  \n",
       "4         1    Contact Owner  "
      ]
     },
     "execution_count": 3,
     "metadata": {},
     "output_type": "execute_result"
    }
   ],
   "source": [
    "df.head()"
   ]
  },
  {
   "cell_type": "code",
   "execution_count": 4,
   "id": "9e039083",
   "metadata": {
    "execution": {
     "iopub.execute_input": "2022-10-11T20:32:59.000821Z",
     "iopub.status.busy": "2022-10-11T20:32:58.999518Z",
     "iopub.status.idle": "2022-10-11T20:32:59.028009Z",
     "shell.execute_reply": "2022-10-11T20:32:59.026632Z"
    },
    "papermill": {
     "duration": 0.052303,
     "end_time": "2022-10-11T20:32:59.031375",
     "exception": false,
     "start_time": "2022-10-11T20:32:58.979072",
     "status": "completed"
    },
    "tags": []
   },
   "outputs": [
    {
     "name": "stdout",
     "output_type": "stream",
     "text": [
      "<class 'pandas.core.frame.DataFrame'>\n",
      "RangeIndex: 4746 entries, 0 to 4745\n",
      "Data columns (total 12 columns):\n",
      " #   Column             Non-Null Count  Dtype \n",
      "---  ------             --------------  ----- \n",
      " 0   Posted On          4746 non-null   object\n",
      " 1   BHK                4746 non-null   int64 \n",
      " 2   Rent               4746 non-null   int64 \n",
      " 3   Size               4746 non-null   int64 \n",
      " 4   Floor              4746 non-null   object\n",
      " 5   Area Type          4746 non-null   object\n",
      " 6   Area Locality      4746 non-null   object\n",
      " 7   City               4746 non-null   object\n",
      " 8   Furnishing Status  4746 non-null   object\n",
      " 9   Tenant Preferred   4746 non-null   object\n",
      " 10  Bathroom           4746 non-null   int64 \n",
      " 11  Point of Contact   4746 non-null   object\n",
      "dtypes: int64(4), object(8)\n",
      "memory usage: 445.1+ KB\n"
     ]
    }
   ],
   "source": [
    "df.info()"
   ]
  },
  {
   "cell_type": "markdown",
   "id": "5998fe38",
   "metadata": {
    "papermill": {
     "duration": 0.019506,
     "end_time": "2022-10-11T20:32:59.071672",
     "exception": false,
     "start_time": "2022-10-11T20:32:59.052166",
     "status": "completed"
    },
    "tags": []
   },
   "source": [
    "***looks like we dont have any null data. lets check again.***"
   ]
  },
  {
   "cell_type": "markdown",
   "id": "28aab5fa",
   "metadata": {
    "papermill": {
     "duration": 0.019848,
     "end_time": "2022-10-11T20:32:59.111110",
     "exception": false,
     "start_time": "2022-10-11T20:32:59.091262",
     "status": "completed"
    },
    "tags": []
   },
   "source": []
  },
  {
   "cell_type": "code",
   "execution_count": 5,
   "id": "eeb99525",
   "metadata": {
    "execution": {
     "iopub.execute_input": "2022-10-11T20:32:59.153806Z",
     "iopub.status.busy": "2022-10-11T20:32:59.153362Z",
     "iopub.status.idle": "2022-10-11T20:32:59.164568Z",
     "shell.execute_reply": "2022-10-11T20:32:59.163495Z"
    },
    "papermill": {
     "duration": 0.035004,
     "end_time": "2022-10-11T20:32:59.166716",
     "exception": false,
     "start_time": "2022-10-11T20:32:59.131712",
     "status": "completed"
    },
    "tags": []
   },
   "outputs": [
    {
     "data": {
      "text/plain": [
       "Posted On            0\n",
       "BHK                  0\n",
       "Rent                 0\n",
       "Size                 0\n",
       "Floor                0\n",
       "Area Type            0\n",
       "Area Locality        0\n",
       "City                 0\n",
       "Furnishing Status    0\n",
       "Tenant Preferred     0\n",
       "Bathroom             0\n",
       "Point of Contact     0\n",
       "dtype: int64"
      ]
     },
     "execution_count": 5,
     "metadata": {},
     "output_type": "execute_result"
    }
   ],
   "source": [
    "df.isnull().sum()"
   ]
  },
  {
   "cell_type": "markdown",
   "id": "76f75cb8",
   "metadata": {
    "papermill": {
     "duration": 0.022863,
     "end_time": "2022-10-11T20:32:59.209676",
     "exception": false,
     "start_time": "2022-10-11T20:32:59.186813",
     "status": "completed"
    },
    "tags": []
   },
   "source": [
    "***EDA***"
   ]
  },
  {
   "cell_type": "code",
   "execution_count": 6,
   "id": "a9e56f46",
   "metadata": {
    "execution": {
     "iopub.execute_input": "2022-10-11T20:32:59.258271Z",
     "iopub.status.busy": "2022-10-11T20:32:59.257438Z",
     "iopub.status.idle": "2022-10-11T20:32:59.287823Z",
     "shell.execute_reply": "2022-10-11T20:32:59.286668Z"
    },
    "papermill": {
     "duration": 0.057652,
     "end_time": "2022-10-11T20:32:59.290193",
     "exception": false,
     "start_time": "2022-10-11T20:32:59.232541",
     "status": "completed"
    },
    "tags": []
   },
   "outputs": [
    {
     "data": {
      "text/html": [
       "<div>\n",
       "<style scoped>\n",
       "    .dataframe tbody tr th:only-of-type {\n",
       "        vertical-align: middle;\n",
       "    }\n",
       "\n",
       "    .dataframe tbody tr th {\n",
       "        vertical-align: top;\n",
       "    }\n",
       "\n",
       "    .dataframe thead th {\n",
       "        text-align: right;\n",
       "    }\n",
       "</style>\n",
       "<table border=\"1\" class=\"dataframe\">\n",
       "  <thead>\n",
       "    <tr style=\"text-align: right;\">\n",
       "      <th></th>\n",
       "      <th>count</th>\n",
       "      <th>mean</th>\n",
       "      <th>std</th>\n",
       "      <th>min</th>\n",
       "      <th>25%</th>\n",
       "      <th>50%</th>\n",
       "      <th>75%</th>\n",
       "      <th>max</th>\n",
       "    </tr>\n",
       "  </thead>\n",
       "  <tbody>\n",
       "    <tr>\n",
       "      <th>BHK</th>\n",
       "      <td>4746.0</td>\n",
       "      <td>2.083860</td>\n",
       "      <td>0.832256</td>\n",
       "      <td>1.0</td>\n",
       "      <td>2.0</td>\n",
       "      <td>2.0</td>\n",
       "      <td>3.0</td>\n",
       "      <td>6.0</td>\n",
       "    </tr>\n",
       "    <tr>\n",
       "      <th>Rent</th>\n",
       "      <td>4746.0</td>\n",
       "      <td>34993.451327</td>\n",
       "      <td>78106.412937</td>\n",
       "      <td>1200.0</td>\n",
       "      <td>10000.0</td>\n",
       "      <td>16000.0</td>\n",
       "      <td>33000.0</td>\n",
       "      <td>3500000.0</td>\n",
       "    </tr>\n",
       "    <tr>\n",
       "      <th>Size</th>\n",
       "      <td>4746.0</td>\n",
       "      <td>967.490729</td>\n",
       "      <td>634.202328</td>\n",
       "      <td>10.0</td>\n",
       "      <td>550.0</td>\n",
       "      <td>850.0</td>\n",
       "      <td>1200.0</td>\n",
       "      <td>8000.0</td>\n",
       "    </tr>\n",
       "    <tr>\n",
       "      <th>Bathroom</th>\n",
       "      <td>4746.0</td>\n",
       "      <td>1.965866</td>\n",
       "      <td>0.884532</td>\n",
       "      <td>1.0</td>\n",
       "      <td>1.0</td>\n",
       "      <td>2.0</td>\n",
       "      <td>2.0</td>\n",
       "      <td>10.0</td>\n",
       "    </tr>\n",
       "  </tbody>\n",
       "</table>\n",
       "</div>"
      ],
      "text/plain": [
       "           count          mean           std     min      25%      50%  \\\n",
       "BHK       4746.0      2.083860      0.832256     1.0      2.0      2.0   \n",
       "Rent      4746.0  34993.451327  78106.412937  1200.0  10000.0  16000.0   \n",
       "Size      4746.0    967.490729    634.202328    10.0    550.0    850.0   \n",
       "Bathroom  4746.0      1.965866      0.884532     1.0      1.0      2.0   \n",
       "\n",
       "              75%        max  \n",
       "BHK           3.0        6.0  \n",
       "Rent      33000.0  3500000.0  \n",
       "Size       1200.0     8000.0  \n",
       "Bathroom      2.0       10.0  "
      ]
     },
     "execution_count": 6,
     "metadata": {},
     "output_type": "execute_result"
    }
   ],
   "source": [
    "df.describe().T"
   ]
  },
  {
   "cell_type": "code",
   "execution_count": 7,
   "id": "4c15d5bd",
   "metadata": {
    "execution": {
     "iopub.execute_input": "2022-10-11T20:32:59.339809Z",
     "iopub.status.busy": "2022-10-11T20:32:59.338870Z",
     "iopub.status.idle": "2022-10-11T20:32:59.347133Z",
     "shell.execute_reply": "2022-10-11T20:32:59.346054Z"
    },
    "papermill": {
     "duration": 0.038291,
     "end_time": "2022-10-11T20:32:59.349535",
     "exception": false,
     "start_time": "2022-10-11T20:32:59.311244",
     "status": "completed"
    },
    "tags": []
   },
   "outputs": [
    {
     "data": {
      "text/plain": [
       "Index(['Posted On', 'BHK', 'Rent', 'Size', 'Floor', 'Area Type',\n",
       "       'Area Locality', 'City', 'Furnishing Status', 'Tenant Preferred',\n",
       "       'Bathroom', 'Point of Contact'],\n",
       "      dtype='object')"
      ]
     },
     "execution_count": 7,
     "metadata": {},
     "output_type": "execute_result"
    }
   ],
   "source": [
    "df.columns"
   ]
  },
  {
   "cell_type": "code",
   "execution_count": 8,
   "id": "c0d7f125",
   "metadata": {
    "execution": {
     "iopub.execute_input": "2022-10-11T20:32:59.394827Z",
     "iopub.status.busy": "2022-10-11T20:32:59.393779Z",
     "iopub.status.idle": "2022-10-11T20:32:59.403657Z",
     "shell.execute_reply": "2022-10-11T20:32:59.402544Z"
    },
    "papermill": {
     "duration": 0.03514,
     "end_time": "2022-10-11T20:32:59.406066",
     "exception": false,
     "start_time": "2022-10-11T20:32:59.370926",
     "status": "completed"
    },
    "tags": []
   },
   "outputs": [
    {
     "data": {
      "text/plain": [
       "Posted On            object\n",
       "BHK                   int64\n",
       "Rent                  int64\n",
       "Size                  int64\n",
       "Floor                object\n",
       "Area Type            object\n",
       "Area Locality        object\n",
       "City                 object\n",
       "Furnishing Status    object\n",
       "Tenant Preferred     object\n",
       "Bathroom              int64\n",
       "Point of Contact     object\n",
       "dtype: object"
      ]
     },
     "execution_count": 8,
     "metadata": {},
     "output_type": "execute_result"
    }
   ],
   "source": [
    "df.dtypes"
   ]
  },
  {
   "cell_type": "code",
   "execution_count": 9,
   "id": "ba3597f3",
   "metadata": {
    "execution": {
     "iopub.execute_input": "2022-10-11T20:32:59.459971Z",
     "iopub.status.busy": "2022-10-11T20:32:59.459113Z",
     "iopub.status.idle": "2022-10-11T20:32:59.463826Z",
     "shell.execute_reply": "2022-10-11T20:32:59.463004Z"
    },
    "papermill": {
     "duration": 0.03806,
     "end_time": "2022-10-11T20:32:59.466390",
     "exception": false,
     "start_time": "2022-10-11T20:32:59.428330",
     "status": "completed"
    },
    "tags": []
   },
   "outputs": [],
   "source": [
    "#duplicated or not?"
   ]
  },
  {
   "cell_type": "code",
   "execution_count": 10,
   "id": "f5b1f084",
   "metadata": {
    "execution": {
     "iopub.execute_input": "2022-10-11T20:32:59.516410Z",
     "iopub.status.busy": "2022-10-11T20:32:59.515435Z",
     "iopub.status.idle": "2022-10-11T20:32:59.531699Z",
     "shell.execute_reply": "2022-10-11T20:32:59.530861Z"
    },
    "papermill": {
     "duration": 0.04126,
     "end_time": "2022-10-11T20:32:59.533848",
     "exception": false,
     "start_time": "2022-10-11T20:32:59.492588",
     "status": "completed"
    },
    "tags": []
   },
   "outputs": [
    {
     "data": {
      "text/plain": [
       "0"
      ]
     },
     "execution_count": 10,
     "metadata": {},
     "output_type": "execute_result"
    }
   ],
   "source": [
    "df.duplicated().sum()"
   ]
  },
  {
   "cell_type": "code",
   "execution_count": 11,
   "id": "29999f74",
   "metadata": {
    "execution": {
     "iopub.execute_input": "2022-10-11T20:32:59.587153Z",
     "iopub.status.busy": "2022-10-11T20:32:59.586180Z",
     "iopub.status.idle": "2022-10-11T20:32:59.895555Z",
     "shell.execute_reply": "2022-10-11T20:32:59.894664Z"
    },
    "papermill": {
     "duration": 0.337939,
     "end_time": "2022-10-11T20:32:59.898009",
     "exception": false,
     "start_time": "2022-10-11T20:32:59.560070",
     "status": "completed"
    },
    "tags": []
   },
   "outputs": [
    {
     "data": {
      "text/plain": [
       "<AxesSubplot:>"
      ]
     },
     "execution_count": 11,
     "metadata": {},
     "output_type": "execute_result"
    },
    {
     "data": {
      "image/png": "[encoded data removed]",
      "text/plain": [
       "<Figure size 432x288 with 2 Axes>"
      ]
     },
     "metadata": {
      "needs_background": "light"
     },
     "output_type": "display_data"
    }
   ],
   "source": [
    "sns.heatmap(df.corr())"
   ]
  },
  {
   "cell_type": "markdown",
   "id": "30992ae2",
   "metadata": {
    "papermill": {
     "duration": 0.021647,
     "end_time": "2022-10-11T20:32:59.941145",
     "exception": false,
     "start_time": "2022-10-11T20:32:59.919498",
     "status": "completed"
    },
    "tags": []
   },
   "source": [
    "***we can see some corelations like between BHK and Bathroom, Size and Bathroom etc..***"
   ]
  },
  {
   "cell_type": "code",
   "execution_count": 12,
   "id": "6c571ff4",
   "metadata": {
    "execution": {
     "iopub.execute_input": "2022-10-11T20:32:59.985935Z",
     "iopub.status.busy": "2022-10-11T20:32:59.984746Z",
     "iopub.status.idle": "2022-10-11T20:33:00.428818Z",
     "shell.execute_reply": "2022-10-11T20:33:00.427565Z"
    },
    "papermill": {
     "duration": 0.469273,
     "end_time": "2022-10-11T20:33:00.431503",
     "exception": false,
     "start_time": "2022-10-11T20:32:59.962230",
     "status": "completed"
    },
    "tags": []
   },
   "outputs": [
    {
     "data": {
      "text/plain": [
       "<AxesSubplot:xlabel='BHK', ylabel='Rent'>"
      ]
     },
     "execution_count": 12,
     "metadata": {},
     "output_type": "execute_result"
    },
    {
     "data": {
      "image/png": "[encoded data removed]",
      "text/plain": [
       "<Figure size 432x288 with 1 Axes>"
      ]
     },
     "metadata": {
      "needs_background": "light"
     },
     "output_type": "display_data"
    }
   ],
   "source": [
    "sns.barplot(x = df['BHK'], y = df['Rent'], data = df)"
   ]
  },
  {
   "cell_type": "code",
   "execution_count": 13,
   "id": "bbea2661",
   "metadata": {
    "execution": {
     "iopub.execute_input": "2022-10-11T20:33:00.476921Z",
     "iopub.status.busy": "2022-10-11T20:33:00.475998Z",
     "iopub.status.idle": "2022-10-11T20:33:00.485814Z",
     "shell.execute_reply": "2022-10-11T20:33:00.484660Z"
    },
    "papermill": {
     "duration": 0.035478,
     "end_time": "2022-10-11T20:33:00.488385",
     "exception": false,
     "start_time": "2022-10-11T20:33:00.452907",
     "status": "completed"
    },
    "tags": []
   },
   "outputs": [
    {
     "name": "stdout",
     "output_type": "stream",
     "text": [
      "BHK\n",
      "1     14139.223650\n",
      "2     22113.864018\n",
      "3     55863.062842\n",
      "6     73125.000000\n",
      "4    168864.555556\n",
      "5    297500.000000\n",
      "Name: Rent, dtype: float64\n"
     ]
    }
   ],
   "source": [
    "mean_rent=df.groupby('BHK')['Rent'].mean().sort_values()\n",
    "print(mean_rent)"
   ]
  },
  {
   "cell_type": "markdown",
   "id": "6da2cb63",
   "metadata": {
    "papermill": {
     "duration": 0.020933,
     "end_time": "2022-10-11T20:33:00.530823",
     "exception": false,
     "start_time": "2022-10-11T20:33:00.509890",
     "status": "completed"
    },
    "tags": []
   },
   "source": [
    "***It looks like houses that have 4 or 5 rooms are higher rent prices than 6. 6 bedroom houses can be out of the city or not big as 4 and 5 bedroom houses*.**"
   ]
  },
  {
   "cell_type": "code",
   "execution_count": 14,
   "id": "6d12d55f",
   "metadata": {
    "execution": {
     "iopub.execute_input": "2022-10-11T20:33:00.576069Z",
     "iopub.status.busy": "2022-10-11T20:33:00.575629Z",
     "iopub.status.idle": "2022-10-11T20:33:01.007558Z",
     "shell.execute_reply": "2022-10-11T20:33:01.006380Z"
    },
    "papermill": {
     "duration": 0.458304,
     "end_time": "2022-10-11T20:33:01.010362",
     "exception": false,
     "start_time": "2022-10-11T20:33:00.552058",
     "status": "completed"
    },
    "tags": []
   },
   "outputs": [
    {
     "data": {
      "text/plain": [
       "<AxesSubplot:xlabel='BHK', ylabel='Size'>"
      ]
     },
     "execution_count": 14,
     "metadata": {},
     "output_type": "execute_result"
    },
    {
     "data": {
      "image/png": "[encoded data removed]",
      "text/plain": [
       "<Figure size 432x288 with 1 Axes>"
      ]
     },
     "metadata": {
      "needs_background": "light"
     },
     "output_type": "display_data"
    }
   ],
   "source": [
    "sns.barplot(x = df['BHK'], y = df['Size'], data = df)"
   ]
  },
  {
   "cell_type": "code",
   "execution_count": 15,
   "id": "38c78d54",
   "metadata": {
    "execution": {
     "iopub.execute_input": "2022-10-11T20:33:01.055993Z",
     "iopub.status.busy": "2022-10-11T20:33:01.055568Z",
     "iopub.status.idle": "2022-10-11T20:33:01.065238Z",
     "shell.execute_reply": "2022-10-11T20:33:01.063662Z"
    },
    "papermill": {
     "duration": 0.035771,
     "end_time": "2022-10-11T20:33:01.067930",
     "exception": false,
     "start_time": "2022-10-11T20:33:01.032159",
     "status": "completed"
    },
    "tags": []
   },
   "outputs": [
    {
     "name": "stdout",
     "output_type": "stream",
     "text": [
      "BHK\n",
      "1     478.907455\n",
      "2     852.072848\n",
      "3    1432.367031\n",
      "4    2382.190476\n",
      "5    2910.947368\n",
      "6    3075.000000\n",
      "Name: Size, dtype: float64\n"
     ]
    }
   ],
   "source": [
    "mean_size=df.groupby('BHK')['Size'].mean().sort_values()\n",
    "print(mean_size)"
   ]
  },
  {
   "cell_type": "code",
   "execution_count": 16,
   "id": "7a2767d7",
   "metadata": {
    "execution": {
     "iopub.execute_input": "2022-10-11T20:33:01.114415Z",
     "iopub.status.busy": "2022-10-11T20:33:01.113644Z",
     "iopub.status.idle": "2022-10-11T20:33:01.368589Z",
     "shell.execute_reply": "2022-10-11T20:33:01.367358Z"
    },
    "papermill": {
     "duration": 0.280844,
     "end_time": "2022-10-11T20:33:01.371190",
     "exception": false,
     "start_time": "2022-10-11T20:33:01.090346",
     "status": "completed"
    },
    "tags": []
   },
   "outputs": [
    {
     "data": {
      "text/plain": [
       "<AxesSubplot:>"
      ]
     },
     "execution_count": 16,
     "metadata": {},
     "output_type": "execute_result"
    },
    {
     "data": {
      "image/png": "[encoded data removed]",
      "text/plain": [
       "<Figure size 432x288 with 1 Axes>"
      ]
     },
     "metadata": {
      "needs_background": "light"
     },
     "output_type": "display_data"
    }
   ],
   "source": [
    "##??? NIYE\n",
    "df['Rent'].hist()"
   ]
  },
  {
   "cell_type": "markdown",
   "id": "1d0b6145",
   "metadata": {
    "papermill": {
     "duration": 0.022395,
     "end_time": "2022-10-11T20:33:01.416235",
     "exception": false,
     "start_time": "2022-10-11T20:33:01.393840",
     "status": "completed"
    },
    "tags": []
   },
   "source": [
    "***right skewed distribution.***"
   ]
  },
  {
   "cell_type": "code",
   "execution_count": 17,
   "id": "57b4ddaa",
   "metadata": {
    "execution": {
     "iopub.execute_input": "2022-10-11T20:33:01.464670Z",
     "iopub.status.busy": "2022-10-11T20:33:01.463790Z",
     "iopub.status.idle": "2022-10-11T20:33:01.660416Z",
     "shell.execute_reply": "2022-10-11T20:33:01.659263Z"
    },
    "papermill": {
     "duration": 0.224772,
     "end_time": "2022-10-11T20:33:01.663960",
     "exception": false,
     "start_time": "2022-10-11T20:33:01.439188",
     "status": "completed"
    },
    "tags": []
   },
   "outputs": [
    {
     "data": {
      "text/plain": [
       "<AxesSubplot:xlabel='Rent'>"
      ]
     },
     "execution_count": 17,
     "metadata": {},
     "output_type": "execute_result"
    },
    {
     "data": {
      "image/png": "[encoded data removed]",
      "text/plain": [
       "<Figure size 432x288 with 1 Axes>"
      ]
     },
     "metadata": {
      "needs_background": "light"
     },
     "output_type": "display_data"
    }
   ],
   "source": [
    "sns.boxplot(x = df['Rent'][df['Rent'] <= 150000])"
   ]
  },
  {
   "cell_type": "markdown",
   "id": "3e01fd2b",
   "metadata": {
    "papermill": {
     "duration": 0.022511,
     "end_time": "2022-10-11T20:33:01.709223",
     "exception": false,
     "start_time": "2022-10-11T20:33:01.686712",
     "status": "completed"
    },
    "tags": []
   },
   "source": [
    "***so the avg. of rent is between 10k to 30k.***"
   ]
  },
  {
   "cell_type": "markdown",
   "id": "41ec2d1f",
   "metadata": {
    "papermill": {
     "duration": 0.022016,
     "end_time": "2022-10-11T20:33:01.754140",
     "exception": false,
     "start_time": "2022-10-11T20:33:01.732124",
     "status": "completed"
    },
    "tags": []
   },
   "source": [
    "***lets find the mean of the rent for every cities.***"
   ]
  },
  {
   "cell_type": "code",
   "execution_count": 18,
   "id": "3f244e26",
   "metadata": {
    "execution": {
     "iopub.execute_input": "2022-10-11T20:33:01.800742Z",
     "iopub.status.busy": "2022-10-11T20:33:01.800262Z",
     "iopub.status.idle": "2022-10-11T20:33:01.810042Z",
     "shell.execute_reply": "2022-10-11T20:33:01.808892Z"
    },
    "papermill": {
     "duration": 0.035908,
     "end_time": "2022-10-11T20:33:01.812546",
     "exception": false,
     "start_time": "2022-10-11T20:33:01.776638",
     "status": "completed"
    },
    "tags": []
   },
   "outputs": [
    {
     "name": "stdout",
     "output_type": "stream",
     "text": [
      "City\n",
      "Kolkata      11645.173664\n",
      "Hyderabad    20555.048387\n",
      "Chennai      21614.092031\n",
      "Bangalore    24966.365688\n",
      "Delhi        29461.983471\n",
      "Mumbai       85321.204733\n",
      "Name: Rent, dtype: float64\n"
     ]
    }
   ],
   "source": [
    "meancities = df.groupby('City')['Rent'].mean().sort_values()\n",
    "print(meancities)"
   ]
  },
  {
   "cell_type": "code",
   "execution_count": 19,
   "id": "2984a548",
   "metadata": {
    "execution": {
     "iopub.execute_input": "2022-10-11T20:33:01.861199Z",
     "iopub.status.busy": "2022-10-11T20:33:01.860417Z",
     "iopub.status.idle": "2022-10-11T20:33:02.089216Z",
     "shell.execute_reply": "2022-10-11T20:33:02.088251Z"
    },
    "papermill": {
     "duration": 0.255568,
     "end_time": "2022-10-11T20:33:02.091348",
     "exception": false,
     "start_time": "2022-10-11T20:33:01.835780",
     "status": "completed"
    },
    "tags": []
   },
   "outputs": [
    {
     "data": {
      "text/plain": [
       "<AxesSubplot:xlabel='City'>"
      ]
     },
     "execution_count": 19,
     "metadata": {},
     "output_type": "execute_result"
    },
    {
     "data": {
      "image/png": "[encoded data removed]",
      "text/plain": [
       "<Figure size 432x288 with 1 Axes>"
      ]
     },
     "metadata": {
      "needs_background": "light"
     },
     "output_type": "display_data"
    }
   ],
   "source": [
    "meancities.plot(kind=\"bar\")"
   ]
  },
  {
   "cell_type": "markdown",
   "id": "51734ae8",
   "metadata": {
    "papermill": {
     "duration": 0.022545,
     "end_time": "2022-10-11T20:33:02.137363",
     "exception": false,
     "start_time": "2022-10-11T20:33:02.114818",
     "status": "completed"
    },
    "tags": []
   },
   "source": [
    "***now its time to delete some \"unnecessary columns\". there is nothing to do with \"posted on\" and \"area locality\" columns.***"
   ]
  },
  {
   "cell_type": "code",
   "execution_count": 20,
   "id": "4fa95be3",
   "metadata": {
    "execution": {
     "iopub.execute_input": "2022-10-11T20:33:02.185487Z",
     "iopub.status.busy": "2022-10-11T20:33:02.184724Z",
     "iopub.status.idle": "2022-10-11T20:33:02.192114Z",
     "shell.execute_reply": "2022-10-11T20:33:02.191289Z"
    },
    "papermill": {
     "duration": 0.034061,
     "end_time": "2022-10-11T20:33:02.194340",
     "exception": false,
     "start_time": "2022-10-11T20:33:02.160279",
     "status": "completed"
    },
    "tags": []
   },
   "outputs": [],
   "source": [
    "df.drop([\"Posted On\"], axis=\"columns\", inplace=True)\n",
    "df.drop([\"Area Locality\"], axis=\"columns\", inplace=True)\n"
   ]
  },
  {
   "cell_type": "markdown",
   "id": "0a952d8e",
   "metadata": {
    "papermill": {
     "duration": 0.022511,
     "end_time": "2022-10-11T20:33:02.242831",
     "exception": false,
     "start_time": "2022-10-11T20:33:02.220320",
     "status": "completed"
    },
    "tags": []
   },
   "source": [
    "***lets see some distrubitions.***"
   ]
  },
  {
   "cell_type": "code",
   "execution_count": 21,
   "id": "bfeeb3cb",
   "metadata": {
    "execution": {
     "iopub.execute_input": "2022-10-11T20:33:02.293613Z",
     "iopub.status.busy": "2022-10-11T20:33:02.292786Z",
     "iopub.status.idle": "2022-10-11T20:33:13.666155Z",
     "shell.execute_reply": "2022-10-11T20:33:13.664935Z"
    },
    "papermill": {
     "duration": 11.40317,
     "end_time": "2022-10-11T20:33:13.668822",
     "exception": false,
     "start_time": "2022-10-11T20:33:02.265652",
     "status": "completed"
    },
    "tags": []
   },
   "outputs": [
    {
     "data": {
      "text/plain": [
       "<seaborn.axisgrid.PairGrid at 0x7f2320442a50>"
      ]
     },
     "execution_count": 21,
     "metadata": {},
     "output_type": "execute_result"
    },
    {
     "data": {
      "image/png": "[encoded data removed]",
      "text/plain": [
       "<Figure size 720x720 with 20 Axes>"
      ]
     },
     "metadata": {
      "needs_background": "light"
     },
     "output_type": "display_data"
    }
   ],
   "source": [
    "sns.pairplot(df, kind=\"reg\")"
   ]
  },
  {
   "cell_type": "code",
   "execution_count": 22,
   "id": "021d6198",
   "metadata": {
    "execution": {
     "iopub.execute_input": "2022-10-11T20:33:13.720304Z",
     "iopub.status.busy": "2022-10-11T20:33:13.719880Z",
     "iopub.status.idle": "2022-10-11T20:33:13.735686Z",
     "shell.execute_reply": "2022-10-11T20:33:13.734623Z"
    },
    "papermill": {
     "duration": 0.045049,
     "end_time": "2022-10-11T20:33:13.738132",
     "exception": false,
     "start_time": "2022-10-11T20:33:13.693083",
     "status": "completed"
    },
    "tags": []
   },
   "outputs": [
    {
     "data": {
      "text/html": [
       "<div>\n",
       "<style scoped>\n",
       "    .dataframe tbody tr th:only-of-type {\n",
       "        vertical-align: middle;\n",
       "    }\n",
       "\n",
       "    .dataframe tbody tr th {\n",
       "        vertical-align: top;\n",
       "    }\n",
       "\n",
       "    .dataframe thead th {\n",
       "        text-align: right;\n",
       "    }\n",
       "</style>\n",
       "<table border=\"1\" class=\"dataframe\">\n",
       "  <thead>\n",
       "    <tr style=\"text-align: right;\">\n",
       "      <th></th>\n",
       "      <th>BHK</th>\n",
       "      <th>Rent</th>\n",
       "      <th>Size</th>\n",
       "      <th>Floor</th>\n",
       "      <th>Area Type</th>\n",
       "      <th>City</th>\n",
       "      <th>Furnishing Status</th>\n",
       "      <th>Tenant Preferred</th>\n",
       "      <th>Bathroom</th>\n",
       "      <th>Point of Contact</th>\n",
       "    </tr>\n",
       "  </thead>\n",
       "  <tbody>\n",
       "    <tr>\n",
       "      <th>0</th>\n",
       "      <td>2</td>\n",
       "      <td>10000</td>\n",
       "      <td>1100</td>\n",
       "      <td>Ground out of 2</td>\n",
       "      <td>Super Area</td>\n",
       "      <td>Kolkata</td>\n",
       "      <td>Unfurnished</td>\n",
       "      <td>Bachelors/Family</td>\n",
       "      <td>2</td>\n",
       "      <td>Contact Owner</td>\n",
       "    </tr>\n",
       "    <tr>\n",
       "      <th>1</th>\n",
       "      <td>2</td>\n",
       "      <td>20000</td>\n",
       "      <td>800</td>\n",
       "      <td>1 out of 3</td>\n",
       "      <td>Super Area</td>\n",
       "      <td>Kolkata</td>\n",
       "      <td>Semi-Furnished</td>\n",
       "      <td>Bachelors/Family</td>\n",
       "      <td>1</td>\n",
       "      <td>Contact Owner</td>\n",
       "    </tr>\n",
       "    <tr>\n",
       "      <th>2</th>\n",
       "      <td>2</td>\n",
       "      <td>17000</td>\n",
       "      <td>1000</td>\n",
       "      <td>1 out of 3</td>\n",
       "      <td>Super Area</td>\n",
       "      <td>Kolkata</td>\n",
       "      <td>Semi-Furnished</td>\n",
       "      <td>Bachelors/Family</td>\n",
       "      <td>1</td>\n",
       "      <td>Contact Owner</td>\n",
       "    </tr>\n",
       "    <tr>\n",
       "      <th>3</th>\n",
       "      <td>2</td>\n",
       "      <td>10000</td>\n",
       "      <td>800</td>\n",
       "      <td>1 out of 2</td>\n",
       "      <td>Super Area</td>\n",
       "      <td>Kolkata</td>\n",
       "      <td>Unfurnished</td>\n",
       "      <td>Bachelors/Family</td>\n",
       "      <td>1</td>\n",
       "      <td>Contact Owner</td>\n",
       "    </tr>\n",
       "    <tr>\n",
       "      <th>4</th>\n",
       "      <td>2</td>\n",
       "      <td>7500</td>\n",
       "      <td>850</td>\n",
       "      <td>1 out of 2</td>\n",
       "      <td>Carpet Area</td>\n",
       "      <td>Kolkata</td>\n",
       "      <td>Unfurnished</td>\n",
       "      <td>Bachelors</td>\n",
       "      <td>1</td>\n",
       "      <td>Contact Owner</td>\n",
       "    </tr>\n",
       "  </tbody>\n",
       "</table>\n",
       "</div>"
      ],
      "text/plain": [
       "   BHK   Rent  Size            Floor    Area Type     City Furnishing Status  \\\n",
       "0    2  10000  1100  Ground out of 2   Super Area  Kolkata       Unfurnished   \n",
       "1    2  20000   800       1 out of 3   Super Area  Kolkata    Semi-Furnished   \n",
       "2    2  17000  1000       1 out of 3   Super Area  Kolkata    Semi-Furnished   \n",
       "3    2  10000   800       1 out of 2   Super Area  Kolkata       Unfurnished   \n",
       "4    2   7500   850       1 out of 2  Carpet Area  Kolkata       Unfurnished   \n",
       "\n",
       "   Tenant Preferred  Bathroom Point of Contact  \n",
       "0  Bachelors/Family         2    Contact Owner  \n",
       "1  Bachelors/Family         1    Contact Owner  \n",
       "2  Bachelors/Family         1    Contact Owner  \n",
       "3  Bachelors/Family         1    Contact Owner  \n",
       "4         Bachelors         1    Contact Owner  "
      ]
     },
     "execution_count": 22,
     "metadata": {},
     "output_type": "execute_result"
    }
   ],
   "source": [
    "df.head()"
   ]
  },
  {
   "cell_type": "markdown",
   "id": "f0308849",
   "metadata": {
    "papermill": {
     "duration": 0.02439,
     "end_time": "2022-10-11T20:33:13.787631",
     "exception": false,
     "start_time": "2022-10-11T20:33:13.763241",
     "status": "completed"
    },
    "tags": []
   },
   "source": [
    "***now we will change our categorical values to numerical so it will be more clear to read data.\n",
    "\"floor\" column needs to change as \"floor number\" and \"total floor\" so instead of \"3 out of 5\" we will see 3 as a floor, 5 as a total floor.***"
   ]
  },
  {
   "cell_type": "code",
   "execution_count": 23,
   "id": "b88f0e41",
   "metadata": {
    "execution": {
     "iopub.execute_input": "2022-10-11T20:33:13.839897Z",
     "iopub.status.busy": "2022-10-11T20:33:13.839189Z",
     "iopub.status.idle": "2022-10-11T20:33:13.849190Z",
     "shell.execute_reply": "2022-10-11T20:33:13.848394Z"
    },
    "papermill": {
     "duration": 0.03869,
     "end_time": "2022-10-11T20:33:13.851245",
     "exception": false,
     "start_time": "2022-10-11T20:33:13.812555",
     "status": "completed"
    },
    "tags": []
   },
   "outputs": [
    {
     "data": {
      "text/plain": [
       "count           4746\n",
       "unique           480\n",
       "top       1 out of 2\n",
       "freq             379\n",
       "Name: Floor, dtype: object"
      ]
     },
     "execution_count": 23,
     "metadata": {},
     "output_type": "execute_result"
    }
   ],
   "source": [
    "df[\"Floor\"].describe()"
   ]
  },
  {
   "cell_type": "code",
   "execution_count": 24,
   "id": "5ba81c00",
   "metadata": {
    "execution": {
     "iopub.execute_input": "2022-10-11T20:33:13.903014Z",
     "iopub.status.busy": "2022-10-11T20:33:13.902629Z",
     "iopub.status.idle": "2022-10-11T20:33:13.909250Z",
     "shell.execute_reply": "2022-10-11T20:33:13.908288Z"
    },
    "papermill": {
     "duration": 0.034999,
     "end_time": "2022-10-11T20:33:13.911709",
     "exception": false,
     "start_time": "2022-10-11T20:33:13.876710",
     "status": "completed"
    },
    "tags": []
   },
   "outputs": [
    {
     "name": "stdout",
     "output_type": "stream",
     "text": [
      "0       Ground out of 2\n",
      "1            1 out of 3\n",
      "2            1 out of 3\n",
      "3            1 out of 2\n",
      "4            1 out of 2\n",
      "             ...       \n",
      "4741         3 out of 5\n",
      "4742         1 out of 4\n",
      "4743         3 out of 5\n",
      "4744       23 out of 34\n",
      "4745         4 out of 5\n",
      "Name: Floor, Length: 4746, dtype: object\n"
     ]
    }
   ],
   "source": [
    "print(df[\"Floor\"])"
   ]
  },
  {
   "cell_type": "code",
   "execution_count": 25,
   "id": "7c8929ea",
   "metadata": {
    "execution": {
     "iopub.execute_input": "2022-10-11T20:33:13.964173Z",
     "iopub.status.busy": "2022-10-11T20:33:13.963765Z",
     "iopub.status.idle": "2022-10-11T20:33:13.972469Z",
     "shell.execute_reply": "2022-10-11T20:33:13.971341Z"
    },
    "papermill": {
     "duration": 0.038322,
     "end_time": "2022-10-11T20:33:13.974837",
     "exception": false,
     "start_time": "2022-10-11T20:33:13.936515",
     "status": "completed"
    },
    "tags": []
   },
   "outputs": [],
   "source": [
    "df[\"Floor Number\"]=df[\"Floor\"].apply(lambda x:str(x).split()[0])"
   ]
  },
  {
   "cell_type": "code",
   "execution_count": 26,
   "id": "56bc5974",
   "metadata": {
    "execution": {
     "iopub.execute_input": "2022-10-11T20:33:14.026601Z",
     "iopub.status.busy": "2022-10-11T20:33:14.026184Z",
     "iopub.status.idle": "2022-10-11T20:33:14.035590Z",
     "shell.execute_reply": "2022-10-11T20:33:14.034161Z"
    },
    "papermill": {
     "duration": 0.03889,
     "end_time": "2022-10-11T20:33:14.038077",
     "exception": false,
     "start_time": "2022-10-11T20:33:13.999187",
     "status": "completed"
    },
    "tags": []
   },
   "outputs": [],
   "source": [
    "df[\"Total Floor\"]=df[\"Floor\"].apply(lambda x:str(x).split()[-1])"
   ]
  },
  {
   "cell_type": "code",
   "execution_count": 27,
   "id": "bec2e2a7",
   "metadata": {
    "execution": {
     "iopub.execute_input": "2022-10-11T20:33:14.089643Z",
     "iopub.status.busy": "2022-10-11T20:33:14.089212Z",
     "iopub.status.idle": "2022-10-11T20:33:14.095205Z",
     "shell.execute_reply": "2022-10-11T20:33:14.094045Z"
    },
    "papermill": {
     "duration": 0.035004,
     "end_time": "2022-10-11T20:33:14.097775",
     "exception": false,
     "start_time": "2022-10-11T20:33:14.062771",
     "status": "completed"
    },
    "tags": []
   },
   "outputs": [],
   "source": [
    "del df[\"Floor\"]"
   ]
  },
  {
   "cell_type": "markdown",
   "id": "88468c0e",
   "metadata": {
    "papermill": {
     "duration": 0.024669,
     "end_time": "2022-10-11T20:33:14.146707",
     "exception": false,
     "start_time": "2022-10-11T20:33:14.122038",
     "status": "completed"
    },
    "tags": []
   },
   "source": [
    "***change \"ground\" to 0 ***"
   ]
  },
  {
   "cell_type": "code",
   "execution_count": 28,
   "id": "b22d1d75",
   "metadata": {
    "execution": {
     "iopub.execute_input": "2022-10-11T20:33:14.197854Z",
     "iopub.status.busy": "2022-10-11T20:33:14.197444Z",
     "iopub.status.idle": "2022-10-11T20:33:14.204371Z",
     "shell.execute_reply": "2022-10-11T20:33:14.203038Z"
    },
    "papermill": {
     "duration": 0.035443,
     "end_time": "2022-10-11T20:33:14.206725",
     "exception": false,
     "start_time": "2022-10-11T20:33:14.171282",
     "status": "completed"
    },
    "tags": []
   },
   "outputs": [],
   "source": [
    "df[\"Floor Number\"] = df[\"Floor Number\"].replace(['Ground'],0)\n"
   ]
  },
  {
   "cell_type": "code",
   "execution_count": 29,
   "id": "9ebb9c55",
   "metadata": {
    "execution": {
     "iopub.execute_input": "2022-10-11T20:33:14.257919Z",
     "iopub.status.busy": "2022-10-11T20:33:14.257483Z",
     "iopub.status.idle": "2022-10-11T20:33:14.266514Z",
     "shell.execute_reply": "2022-10-11T20:33:14.265412Z"
    },
    "papermill": {
     "duration": 0.03804,
     "end_time": "2022-10-11T20:33:14.268994",
     "exception": false,
     "start_time": "2022-10-11T20:33:14.230954",
     "status": "completed"
    },
    "tags": []
   },
   "outputs": [
    {
     "data": {
      "text/plain": [
       "1        1161\n",
       "2         945\n",
       "0         927\n",
       "3         512\n",
       "4         272\n",
       "5         164\n",
       "6          93\n",
       "7          74\n",
       "10         67\n",
       "8          66\n",
       "9          65\n",
       "12         47\n",
       "11         43\n",
       "15         41\n",
       "14         34\n",
       "18         26\n",
       "Upper      23\n",
       "17         22\n",
       "16         21\n",
       "19         16\n",
       "13         15\n",
       "20         12\n",
       "25         12\n",
       "Lower      11\n",
       "23          9\n",
       "24          6\n",
       "21          6\n",
       "30          5\n",
       "34          4\n",
       "28          4\n",
       "35          3\n",
       "65          3\n",
       "22          3\n",
       "26          3\n",
       "32          3\n",
       "60          3\n",
       "27          3\n",
       "40          2\n",
       "53          2\n",
       "45          2\n",
       "36          2\n",
       "48          2\n",
       "29          1\n",
       "49          1\n",
       "50          1\n",
       "39          1\n",
       "46          1\n",
       "41          1\n",
       "44          1\n",
       "33          1\n",
       "37          1\n",
       "47          1\n",
       "43          1\n",
       "76          1\n",
       "Name: Floor Number, dtype: int64"
      ]
     },
     "execution_count": 29,
     "metadata": {},
     "output_type": "execute_result"
    }
   ],
   "source": [
    "df[\"Floor Number\"].value_counts()"
   ]
  },
  {
   "cell_type": "markdown",
   "id": "b5ec9105",
   "metadata": {
    "papermill": {
     "duration": 0.024354,
     "end_time": "2022-10-11T20:33:14.318391",
     "exception": false,
     "start_time": "2022-10-11T20:33:14.294037",
     "status": "completed"
    },
    "tags": []
   },
   "source": [
    "***lower basement means \"-2\",and Upper basement is -1.***"
   ]
  },
  {
   "cell_type": "code",
   "execution_count": 30,
   "id": "9c0f06ca",
   "metadata": {
    "execution": {
     "iopub.execute_input": "2022-10-11T20:33:14.370534Z",
     "iopub.status.busy": "2022-10-11T20:33:14.370144Z",
     "iopub.status.idle": "2022-10-11T20:33:14.376849Z",
     "shell.execute_reply": "2022-10-11T20:33:14.375684Z"
    },
    "papermill": {
     "duration": 0.034719,
     "end_time": "2022-10-11T20:33:14.378898",
     "exception": false,
     "start_time": "2022-10-11T20:33:14.344179",
     "status": "completed"
    },
    "tags": []
   },
   "outputs": [],
   "source": [
    "df[\"Floor Number\"] = df[\"Floor Number\"].replace(['Lower'],-2)\n"
   ]
  },
  {
   "cell_type": "code",
   "execution_count": 31,
   "id": "507fb8f8",
   "metadata": {
    "execution": {
     "iopub.execute_input": "2022-10-11T20:33:14.430153Z",
     "iopub.status.busy": "2022-10-11T20:33:14.428838Z",
     "iopub.status.idle": "2022-10-11T20:33:14.435436Z",
     "shell.execute_reply": "2022-10-11T20:33:14.434644Z"
    },
    "papermill": {
     "duration": 0.034235,
     "end_time": "2022-10-11T20:33:14.437418",
     "exception": false,
     "start_time": "2022-10-11T20:33:14.403183",
     "status": "completed"
    },
    "tags": []
   },
   "outputs": [],
   "source": [
    "\n",
    "df[\"Floor Number\"] = df[\"Floor Number\"].replace(['Upper'],-1)\n"
   ]
  },
  {
   "cell_type": "code",
   "execution_count": 32,
   "id": "cd485016",
   "metadata": {
    "execution": {
     "iopub.execute_input": "2022-10-11T20:33:14.488258Z",
     "iopub.status.busy": "2022-10-11T20:33:14.487362Z",
     "iopub.status.idle": "2022-10-11T20:33:14.494040Z",
     "shell.execute_reply": "2022-10-11T20:33:14.492962Z"
    },
    "papermill": {
     "duration": 0.034345,
     "end_time": "2022-10-11T20:33:14.496252",
     "exception": false,
     "start_time": "2022-10-11T20:33:14.461907",
     "status": "completed"
    },
    "tags": []
   },
   "outputs": [],
   "source": [
    "\n",
    "df[\"Floor Number\"] = df[\"Floor Number\"].replace(['Ground'],0)"
   ]
  },
  {
   "cell_type": "code",
   "execution_count": 33,
   "id": "722ab6ba",
   "metadata": {
    "execution": {
     "iopub.execute_input": "2022-10-11T20:33:14.547495Z",
     "iopub.status.busy": "2022-10-11T20:33:14.546203Z",
     "iopub.status.idle": "2022-10-11T20:33:14.563854Z",
     "shell.execute_reply": "2022-10-11T20:33:14.562693Z"
    },
    "papermill": {
     "duration": 0.046216,
     "end_time": "2022-10-11T20:33:14.566557",
     "exception": false,
     "start_time": "2022-10-11T20:33:14.520341",
     "status": "completed"
    },
    "tags": []
   },
   "outputs": [
    {
     "data": {
      "text/html": [
       "<div>\n",
       "<style scoped>\n",
       "    .dataframe tbody tr th:only-of-type {\n",
       "        vertical-align: middle;\n",
       "    }\n",
       "\n",
       "    .dataframe tbody tr th {\n",
       "        vertical-align: top;\n",
       "    }\n",
       "\n",
       "    .dataframe thead th {\n",
       "        text-align: right;\n",
       "    }\n",
       "</style>\n",
       "<table border=\"1\" class=\"dataframe\">\n",
       "  <thead>\n",
       "    <tr style=\"text-align: right;\">\n",
       "      <th></th>\n",
       "      <th>BHK</th>\n",
       "      <th>Rent</th>\n",
       "      <th>Size</th>\n",
       "      <th>Area Type</th>\n",
       "      <th>City</th>\n",
       "      <th>Furnishing Status</th>\n",
       "      <th>Tenant Preferred</th>\n",
       "      <th>Bathroom</th>\n",
       "      <th>Point of Contact</th>\n",
       "      <th>Floor Number</th>\n",
       "      <th>Total Floor</th>\n",
       "    </tr>\n",
       "  </thead>\n",
       "  <tbody>\n",
       "    <tr>\n",
       "      <th>4392</th>\n",
       "      <td>3</td>\n",
       "      <td>12000</td>\n",
       "      <td>1275</td>\n",
       "      <td>Carpet Area</td>\n",
       "      <td>Hyderabad</td>\n",
       "      <td>Unfurnished</td>\n",
       "      <td>Bachelors/Family</td>\n",
       "      <td>2</td>\n",
       "      <td>Contact Owner</td>\n",
       "      <td>4</td>\n",
       "      <td>5</td>\n",
       "    </tr>\n",
       "    <tr>\n",
       "      <th>1402</th>\n",
       "      <td>3</td>\n",
       "      <td>140000</td>\n",
       "      <td>1270</td>\n",
       "      <td>Carpet Area</td>\n",
       "      <td>Mumbai</td>\n",
       "      <td>Semi-Furnished</td>\n",
       "      <td>Bachelors</td>\n",
       "      <td>3</td>\n",
       "      <td>Contact Agent</td>\n",
       "      <td>15</td>\n",
       "      <td>60</td>\n",
       "    </tr>\n",
       "    <tr>\n",
       "      <th>2793</th>\n",
       "      <td>1</td>\n",
       "      <td>20000</td>\n",
       "      <td>400</td>\n",
       "      <td>Carpet Area</td>\n",
       "      <td>Delhi</td>\n",
       "      <td>Furnished</td>\n",
       "      <td>Bachelors/Family</td>\n",
       "      <td>1</td>\n",
       "      <td>Contact Agent</td>\n",
       "      <td>3</td>\n",
       "      <td>4</td>\n",
       "    </tr>\n",
       "    <tr>\n",
       "      <th>1267</th>\n",
       "      <td>1</td>\n",
       "      <td>53000</td>\n",
       "      <td>379</td>\n",
       "      <td>Carpet Area</td>\n",
       "      <td>Mumbai</td>\n",
       "      <td>Semi-Furnished</td>\n",
       "      <td>Bachelors</td>\n",
       "      <td>1</td>\n",
       "      <td>Contact Agent</td>\n",
       "      <td>21</td>\n",
       "      <td>23</td>\n",
       "    </tr>\n",
       "    <tr>\n",
       "      <th>235</th>\n",
       "      <td>1</td>\n",
       "      <td>4500</td>\n",
       "      <td>450</td>\n",
       "      <td>Super Area</td>\n",
       "      <td>Kolkata</td>\n",
       "      <td>Unfurnished</td>\n",
       "      <td>Bachelors/Family</td>\n",
       "      <td>1</td>\n",
       "      <td>Contact Owner</td>\n",
       "      <td>0</td>\n",
       "      <td>2</td>\n",
       "    </tr>\n",
       "  </tbody>\n",
       "</table>\n",
       "</div>"
      ],
      "text/plain": [
       "      BHK    Rent  Size    Area Type       City Furnishing Status  \\\n",
       "4392    3   12000  1275  Carpet Area  Hyderabad       Unfurnished   \n",
       "1402    3  140000  1270  Carpet Area     Mumbai    Semi-Furnished   \n",
       "2793    1   20000   400  Carpet Area      Delhi         Furnished   \n",
       "1267    1   53000   379  Carpet Area     Mumbai    Semi-Furnished   \n",
       "235     1    4500   450   Super Area    Kolkata       Unfurnished   \n",
       "\n",
       "      Tenant Preferred  Bathroom Point of Contact Floor Number Total Floor  \n",
       "4392  Bachelors/Family         2    Contact Owner            4           5  \n",
       "1402         Bachelors         3    Contact Agent           15          60  \n",
       "2793  Bachelors/Family         1    Contact Agent            3           4  \n",
       "1267         Bachelors         1    Contact Agent           21          23  \n",
       "235   Bachelors/Family         1    Contact Owner            0           2  "
      ]
     },
     "execution_count": 33,
     "metadata": {},
     "output_type": "execute_result"
    }
   ],
   "source": [
    "df.sample(5)"
   ]
  },
  {
   "cell_type": "markdown",
   "id": "a992fc46",
   "metadata": {
    "papermill": {
     "duration": 0.024551,
     "end_time": "2022-10-11T20:33:14.616116",
     "exception": false,
     "start_time": "2022-10-11T20:33:14.591565",
     "status": "completed"
    },
    "tags": []
   },
   "source": [
    "***we had 1 ground value which was equal to 1 so we changed it. \n",
    "***"
   ]
  },
  {
   "cell_type": "code",
   "execution_count": 34,
   "id": "cb93a94b",
   "metadata": {
    "execution": {
     "iopub.execute_input": "2022-10-11T20:33:14.667710Z",
     "iopub.status.busy": "2022-10-11T20:33:14.667233Z",
     "iopub.status.idle": "2022-10-11T20:33:14.677683Z",
     "shell.execute_reply": "2022-10-11T20:33:14.676624Z"
    },
    "papermill": {
     "duration": 0.039316,
     "end_time": "2022-10-11T20:33:14.680101",
     "exception": false,
     "start_time": "2022-10-11T20:33:14.640785",
     "status": "completed"
    },
    "tags": []
   },
   "outputs": [
    {
     "data": {
      "text/plain": [
       "4         938\n",
       "3         915\n",
       "2         868\n",
       "5         422\n",
       "1         335\n",
       "         ... \n",
       "39          1\n",
       "62          1\n",
       "59          1\n",
       "66          1\n",
       "Ground      1\n",
       "Name: Total Floor, Length: 67, dtype: int64"
      ]
     },
     "execution_count": 34,
     "metadata": {},
     "output_type": "execute_result"
    }
   ],
   "source": [
    "df[\"Total Floor\"].value_counts()"
   ]
  },
  {
   "cell_type": "code",
   "execution_count": 35,
   "id": "85b88f25",
   "metadata": {
    "execution": {
     "iopub.execute_input": "2022-10-11T20:33:14.731799Z",
     "iopub.status.busy": "2022-10-11T20:33:14.731395Z",
     "iopub.status.idle": "2022-10-11T20:33:14.738108Z",
     "shell.execute_reply": "2022-10-11T20:33:14.736978Z"
    },
    "papermill": {
     "duration": 0.03523,
     "end_time": "2022-10-11T20:33:14.740212",
     "exception": false,
     "start_time": "2022-10-11T20:33:14.704982",
     "status": "completed"
    },
    "tags": []
   },
   "outputs": [],
   "source": [
    "df[\"Total Floor\"] = df[\"Total Floor\"].replace(['Ground'],1)"
   ]
  },
  {
   "cell_type": "code",
   "execution_count": 36,
   "id": "1444dbbf",
   "metadata": {
    "execution": {
     "iopub.execute_input": "2022-10-11T20:33:14.792514Z",
     "iopub.status.busy": "2022-10-11T20:33:14.792086Z",
     "iopub.status.idle": "2022-10-11T20:33:14.799917Z",
     "shell.execute_reply": "2022-10-11T20:33:14.798836Z"
    },
    "papermill": {
     "duration": 0.036614,
     "end_time": "2022-10-11T20:33:14.802065",
     "exception": false,
     "start_time": "2022-10-11T20:33:14.765451",
     "status": "completed"
    },
    "tags": []
   },
   "outputs": [
    {
     "data": {
      "text/plain": [
       "array(['Super Area', 'Carpet Area', 'Built Area'], dtype=object)"
      ]
     },
     "execution_count": 36,
     "metadata": {},
     "output_type": "execute_result"
    }
   ],
   "source": [
    "df[\"Area Type\"].unique()"
   ]
  },
  {
   "cell_type": "code",
   "execution_count": 37,
   "id": "cf76a9b3",
   "metadata": {
    "execution": {
     "iopub.execute_input": "2022-10-11T20:33:14.854906Z",
     "iopub.status.busy": "2022-10-11T20:33:14.854471Z",
     "iopub.status.idle": "2022-10-11T20:33:15.055386Z",
     "shell.execute_reply": "2022-10-11T20:33:15.054203Z"
    },
    "papermill": {
     "duration": 0.230153,
     "end_time": "2022-10-11T20:33:15.057930",
     "exception": false,
     "start_time": "2022-10-11T20:33:14.827777",
     "status": "completed"
    },
    "tags": []
   },
   "outputs": [
    {
     "data": {
      "text/plain": [
       "<AxesSubplot:xlabel='Area Type'>"
      ]
     },
     "execution_count": 37,
     "metadata": {},
     "output_type": "execute_result"
    },
    {
     "data": {
      "image/png": "[encoded data removed]",
      "text/plain": [
       "<Figure size 432x288 with 1 Axes>"
      ]
     },
     "metadata": {
      "needs_background": "light"
     },
     "output_type": "display_data"
    }
   ],
   "source": [
    "df.groupby('Area Type')['Rent'].median().sort_values(ascending=False).plot(kind='bar')"
   ]
  },
  {
   "cell_type": "markdown",
   "id": "4b52fcaa",
   "metadata": {
    "papermill": {
     "duration": 0.026203,
     "end_time": "2022-10-11T20:33:15.109495",
     "exception": false,
     "start_time": "2022-10-11T20:33:15.083292",
     "status": "completed"
    },
    "tags": []
   },
   "source": [
    "***# We have 3 values in the \"Area Type\" column. From now on Super Area =0, Carpet Area= 1, Built Area =2.***"
   ]
  },
  {
   "cell_type": "code",
   "execution_count": 38,
   "id": "2f54fad5",
   "metadata": {
    "execution": {
     "iopub.execute_input": "2022-10-11T20:33:15.162877Z",
     "iopub.status.busy": "2022-10-11T20:33:15.162435Z",
     "iopub.status.idle": "2022-10-11T20:33:15.172966Z",
     "shell.execute_reply": "2022-10-11T20:33:15.172059Z"
    },
    "papermill": {
     "duration": 0.040201,
     "end_time": "2022-10-11T20:33:15.175243",
     "exception": false,
     "start_time": "2022-10-11T20:33:15.135042",
     "status": "completed"
    },
    "tags": []
   },
   "outputs": [
    {
     "data": {
      "text/plain": [
       "array([2, 1, 0])"
      ]
     },
     "execution_count": 38,
     "metadata": {},
     "output_type": "execute_result"
    }
   ],
   "source": [
    "label_encoder = preprocessing.LabelEncoder()\n",
    "  \n",
    "# Encode labels in column \"Area Type\".\n",
    "df[\"Area Type\"]= label_encoder.fit_transform(df[\"Area Type\"])\n",
    "  \n",
    "df[\"Area Type\"].unique()"
   ]
  },
  {
   "cell_type": "code",
   "execution_count": 39,
   "id": "ece028cc",
   "metadata": {
    "execution": {
     "iopub.execute_input": "2022-10-11T20:33:15.228933Z",
     "iopub.status.busy": "2022-10-11T20:33:15.227685Z",
     "iopub.status.idle": "2022-10-11T20:33:15.236371Z",
     "shell.execute_reply": "2022-10-11T20:33:15.235244Z"
    },
    "papermill": {
     "duration": 0.038097,
     "end_time": "2022-10-11T20:33:15.238619",
     "exception": false,
     "start_time": "2022-10-11T20:33:15.200522",
     "status": "completed"
    },
    "tags": []
   },
   "outputs": [
    {
     "data": {
      "text/plain": [
       "array(['Unfurnished', 'Semi-Furnished', 'Furnished'], dtype=object)"
      ]
     },
     "execution_count": 39,
     "metadata": {},
     "output_type": "execute_result"
    }
   ],
   "source": [
    "df[\"Furnishing Status\"].unique()"
   ]
  },
  {
   "cell_type": "code",
   "execution_count": 40,
   "id": "6601daa3",
   "metadata": {
    "execution": {
     "iopub.execute_input": "2022-10-11T20:33:15.291705Z",
     "iopub.status.busy": "2022-10-11T20:33:15.291257Z",
     "iopub.status.idle": "2022-10-11T20:33:15.494492Z",
     "shell.execute_reply": "2022-10-11T20:33:15.493654Z"
    },
    "papermill": {
     "duration": 0.232727,
     "end_time": "2022-10-11T20:33:15.496756",
     "exception": false,
     "start_time": "2022-10-11T20:33:15.264029",
     "status": "completed"
    },
    "tags": []
   },
   "outputs": [
    {
     "data": {
      "text/plain": [
       "<AxesSubplot:xlabel='Furnishing Status'>"
      ]
     },
     "execution_count": 40,
     "metadata": {},
     "output_type": "execute_result"
    },
    {
     "data": {
      "image/png": "[encoded data removed]",
      "text/plain": [
       "<Figure size 432x288 with 1 Axes>"
      ]
     },
     "metadata": {
      "needs_background": "light"
     },
     "output_type": "display_data"
    }
   ],
   "source": [
    "df.groupby('Furnishing Status')['Rent'].median().sort_values(ascending=False).plot(kind='bar')"
   ]
  },
  {
   "cell_type": "markdown",
   "id": "61fcddf6",
   "metadata": {
    "papermill": {
     "duration": 0.025442,
     "end_time": "2022-10-11T20:33:15.548133",
     "exception": false,
     "start_time": "2022-10-11T20:33:15.522691",
     "status": "completed"
    },
    "tags": []
   },
   "source": [
    "*** We have 3 values in the \"Furnishing Status\" column. From now on Unfurnished =0, Semi-Furnished= 1, Furnished =2.***"
   ]
  },
  {
   "cell_type": "code",
   "execution_count": 41,
   "id": "332350b1",
   "metadata": {
    "execution": {
     "iopub.execute_input": "2022-10-11T20:33:15.602508Z",
     "iopub.status.busy": "2022-10-11T20:33:15.601817Z",
     "iopub.status.idle": "2022-10-11T20:33:15.612839Z",
     "shell.execute_reply": "2022-10-11T20:33:15.611625Z"
    },
    "papermill": {
     "duration": 0.041136,
     "end_time": "2022-10-11T20:33:15.615232",
     "exception": false,
     "start_time": "2022-10-11T20:33:15.574096",
     "status": "completed"
    },
    "tags": []
   },
   "outputs": [
    {
     "data": {
      "text/plain": [
       "array([2, 1, 0])"
      ]
     },
     "execution_count": 41,
     "metadata": {},
     "output_type": "execute_result"
    }
   ],
   "source": [
    "label_encoder = preprocessing.LabelEncoder()\n",
    "  \n",
    "# Encode labels in column \"Area Type\".\n",
    "df[\"Furnishing Status\"]= label_encoder.fit_transform(df[\"Furnishing Status\"])\n",
    "  \n",
    "df[\"Furnishing Status\"].unique()"
   ]
  },
  {
   "cell_type": "code",
   "execution_count": 42,
   "id": "1bb08d67",
   "metadata": {
    "execution": {
     "iopub.execute_input": "2022-10-11T20:33:15.669468Z",
     "iopub.status.busy": "2022-10-11T20:33:15.669018Z",
     "iopub.status.idle": "2022-10-11T20:33:15.677064Z",
     "shell.execute_reply": "2022-10-11T20:33:15.675943Z"
    },
    "papermill": {
     "duration": 0.03809,
     "end_time": "2022-10-11T20:33:15.679340",
     "exception": false,
     "start_time": "2022-10-11T20:33:15.641250",
     "status": "completed"
    },
    "tags": []
   },
   "outputs": [
    {
     "data": {
      "text/plain": [
       "array(['Bachelors/Family', 'Bachelors', 'Family'], dtype=object)"
      ]
     },
     "execution_count": 42,
     "metadata": {},
     "output_type": "execute_result"
    }
   ],
   "source": [
    "df[\"Tenant Preferred\"].unique()"
   ]
  },
  {
   "cell_type": "code",
   "execution_count": 43,
   "id": "2e66fba6",
   "metadata": {
    "execution": {
     "iopub.execute_input": "2022-10-11T20:33:15.735175Z",
     "iopub.status.busy": "2022-10-11T20:33:15.734479Z",
     "iopub.status.idle": "2022-10-11T20:33:15.938017Z",
     "shell.execute_reply": "2022-10-11T20:33:15.936861Z"
    },
    "papermill": {
     "duration": 0.2347,
     "end_time": "2022-10-11T20:33:15.940683",
     "exception": false,
     "start_time": "2022-10-11T20:33:15.705983",
     "status": "completed"
    },
    "tags": []
   },
   "outputs": [
    {
     "data": {
      "text/plain": [
       "<AxesSubplot:xlabel='Tenant Preferred'>"
      ]
     },
     "execution_count": 43,
     "metadata": {},
     "output_type": "execute_result"
    },
    {
     "data": {
      "image/png": "[encoded data removed]",
      "text/plain": [
       "<Figure size 432x288 with 1 Axes>"
      ]
     },
     "metadata": {
      "needs_background": "light"
     },
     "output_type": "display_data"
    }
   ],
   "source": [
    "df.groupby(\"Tenant Preferred\")['Rent'].median().sort_values(ascending=False).plot(kind='bar')"
   ]
  },
  {
   "cell_type": "markdown",
   "id": "40249d05",
   "metadata": {
    "papermill": {
     "duration": 0.026464,
     "end_time": "2022-10-11T20:33:15.993938",
     "exception": false,
     "start_time": "2022-10-11T20:33:15.967474",
     "status": "completed"
    },
    "tags": []
   },
   "source": [
    "***# We have 3 values in the \"Tenant Preferred\" column. From now on Bachelors/Family =0, Bachelors= 1, Family =2.***"
   ]
  },
  {
   "cell_type": "code",
   "execution_count": 44,
   "id": "d8f09e25",
   "metadata": {
    "execution": {
     "iopub.execute_input": "2022-10-11T20:33:16.049491Z",
     "iopub.status.busy": "2022-10-11T20:33:16.048259Z",
     "iopub.status.idle": "2022-10-11T20:33:16.058703Z",
     "shell.execute_reply": "2022-10-11T20:33:16.057823Z"
    },
    "papermill": {
     "duration": 0.040426,
     "end_time": "2022-10-11T20:33:16.060953",
     "exception": false,
     "start_time": "2022-10-11T20:33:16.020527",
     "status": "completed"
    },
    "tags": []
   },
   "outputs": [
    {
     "data": {
      "text/plain": [
       "array([1, 0, 2])"
      ]
     },
     "execution_count": 44,
     "metadata": {},
     "output_type": "execute_result"
    }
   ],
   "source": [
    "label_encoder = preprocessing.LabelEncoder()\n",
    "  \n",
    "# Encode labels in column \"Area Type\".\n",
    "df[\"Tenant Preferred\"]= label_encoder.fit_transform(df[\"Tenant Preferred\"])\n",
    "  \n",
    "df[\"Tenant Preferred\"].unique()"
   ]
  },
  {
   "cell_type": "code",
   "execution_count": 45,
   "id": "8b5910ab",
   "metadata": {
    "execution": {
     "iopub.execute_input": "2022-10-11T20:33:16.116741Z",
     "iopub.status.busy": "2022-10-11T20:33:16.115879Z",
     "iopub.status.idle": "2022-10-11T20:33:16.124678Z",
     "shell.execute_reply": "2022-10-11T20:33:16.123385Z"
    },
    "papermill": {
     "duration": 0.039337,
     "end_time": "2022-10-11T20:33:16.127173",
     "exception": false,
     "start_time": "2022-10-11T20:33:16.087836",
     "status": "completed"
    },
    "tags": []
   },
   "outputs": [
    {
     "data": {
      "text/plain": [
       "array(['Contact Owner', 'Contact Agent', 'Contact Builder'], dtype=object)"
      ]
     },
     "execution_count": 45,
     "metadata": {},
     "output_type": "execute_result"
    }
   ],
   "source": [
    "df[\"Point of Contact\"].unique()"
   ]
  },
  {
   "cell_type": "markdown",
   "id": "0ce3c687",
   "metadata": {
    "papermill": {
     "duration": 0.026951,
     "end_time": "2022-10-11T20:33:16.181212",
     "exception": false,
     "start_time": "2022-10-11T20:33:16.154261",
     "status": "completed"
    },
    "tags": []
   },
   "source": [
    "*** We have 3 values in the \"Point of Contact\" column. From now on 'Contact Owner' =0, Contact Agent= 1, Contact Builder =2.***"
   ]
  },
  {
   "cell_type": "code",
   "execution_count": 46,
   "id": "f127f7f9",
   "metadata": {
    "execution": {
     "iopub.execute_input": "2022-10-11T20:33:16.237044Z",
     "iopub.status.busy": "2022-10-11T20:33:16.236637Z",
     "iopub.status.idle": "2022-10-11T20:33:16.247018Z",
     "shell.execute_reply": "2022-10-11T20:33:16.245722Z"
    },
    "papermill": {
     "duration": 0.040945,
     "end_time": "2022-10-11T20:33:16.249395",
     "exception": false,
     "start_time": "2022-10-11T20:33:16.208450",
     "status": "completed"
    },
    "tags": []
   },
   "outputs": [
    {
     "data": {
      "text/plain": [
       "array([2, 0, 1])"
      ]
     },
     "execution_count": 46,
     "metadata": {},
     "output_type": "execute_result"
    }
   ],
   "source": [
    "label_encoder = preprocessing.LabelEncoder()\n",
    "  \n",
    "# Encode labels in column \"Area Type\".\n",
    "df[\"Point of Contact\"]= label_encoder.fit_transform(df[\"Point of Contact\"])\n",
    "  \n",
    "df[\"Point of Contact\"].unique()"
   ]
  },
  {
   "cell_type": "code",
   "execution_count": 47,
   "id": "aea9c8bf",
   "metadata": {
    "execution": {
     "iopub.execute_input": "2022-10-11T20:33:16.305135Z",
     "iopub.status.busy": "2022-10-11T20:33:16.304738Z",
     "iopub.status.idle": "2022-10-11T20:33:16.319904Z",
     "shell.execute_reply": "2022-10-11T20:33:16.318841Z"
    },
    "papermill": {
     "duration": 0.046421,
     "end_time": "2022-10-11T20:33:16.322722",
     "exception": false,
     "start_time": "2022-10-11T20:33:16.276301",
     "status": "completed"
    },
    "tags": []
   },
   "outputs": [
    {
     "data": {
      "text/html": [
       "<div>\n",
       "<style scoped>\n",
       "    .dataframe tbody tr th:only-of-type {\n",
       "        vertical-align: middle;\n",
       "    }\n",
       "\n",
       "    .dataframe tbody tr th {\n",
       "        vertical-align: top;\n",
       "    }\n",
       "\n",
       "    .dataframe thead th {\n",
       "        text-align: right;\n",
       "    }\n",
       "</style>\n",
       "<table border=\"1\" class=\"dataframe\">\n",
       "  <thead>\n",
       "    <tr style=\"text-align: right;\">\n",
       "      <th></th>\n",
       "      <th>BHK</th>\n",
       "      <th>Rent</th>\n",
       "      <th>Size</th>\n",
       "      <th>Area Type</th>\n",
       "      <th>City</th>\n",
       "      <th>Furnishing Status</th>\n",
       "      <th>Tenant Preferred</th>\n",
       "      <th>Bathroom</th>\n",
       "      <th>Point of Contact</th>\n",
       "      <th>Floor Number</th>\n",
       "      <th>Total Floor</th>\n",
       "    </tr>\n",
       "  </thead>\n",
       "  <tbody>\n",
       "    <tr>\n",
       "      <th>0</th>\n",
       "      <td>2</td>\n",
       "      <td>10000</td>\n",
       "      <td>1100</td>\n",
       "      <td>2</td>\n",
       "      <td>Kolkata</td>\n",
       "      <td>2</td>\n",
       "      <td>1</td>\n",
       "      <td>2</td>\n",
       "      <td>2</td>\n",
       "      <td>0</td>\n",
       "      <td>2</td>\n",
       "    </tr>\n",
       "    <tr>\n",
       "      <th>1</th>\n",
       "      <td>2</td>\n",
       "      <td>20000</td>\n",
       "      <td>800</td>\n",
       "      <td>2</td>\n",
       "      <td>Kolkata</td>\n",
       "      <td>1</td>\n",
       "      <td>1</td>\n",
       "      <td>1</td>\n",
       "      <td>2</td>\n",
       "      <td>1</td>\n",
       "      <td>3</td>\n",
       "    </tr>\n",
       "    <tr>\n",
       "      <th>2</th>\n",
       "      <td>2</td>\n",
       "      <td>17000</td>\n",
       "      <td>1000</td>\n",
       "      <td>2</td>\n",
       "      <td>Kolkata</td>\n",
       "      <td>1</td>\n",
       "      <td>1</td>\n",
       "      <td>1</td>\n",
       "      <td>2</td>\n",
       "      <td>1</td>\n",
       "      <td>3</td>\n",
       "    </tr>\n",
       "    <tr>\n",
       "      <th>3</th>\n",
       "      <td>2</td>\n",
       "      <td>10000</td>\n",
       "      <td>800</td>\n",
       "      <td>2</td>\n",
       "      <td>Kolkata</td>\n",
       "      <td>2</td>\n",
       "      <td>1</td>\n",
       "      <td>1</td>\n",
       "      <td>2</td>\n",
       "      <td>1</td>\n",
       "      <td>2</td>\n",
       "    </tr>\n",
       "    <tr>\n",
       "      <th>4</th>\n",
       "      <td>2</td>\n",
       "      <td>7500</td>\n",
       "      <td>850</td>\n",
       "      <td>1</td>\n",
       "      <td>Kolkata</td>\n",
       "      <td>2</td>\n",
       "      <td>0</td>\n",
       "      <td>1</td>\n",
       "      <td>2</td>\n",
       "      <td>1</td>\n",
       "      <td>2</td>\n",
       "    </tr>\n",
       "  </tbody>\n",
       "</table>\n",
       "</div>"
      ],
      "text/plain": [
       "   BHK   Rent  Size  Area Type     City  Furnishing Status  Tenant Preferred  \\\n",
       "0    2  10000  1100          2  Kolkata                  2                 1   \n",
       "1    2  20000   800          2  Kolkata                  1                 1   \n",
       "2    2  17000  1000          2  Kolkata                  1                 1   \n",
       "3    2  10000   800          2  Kolkata                  2                 1   \n",
       "4    2   7500   850          1  Kolkata                  2                 0   \n",
       "\n",
       "   Bathroom  Point of Contact Floor Number Total Floor  \n",
       "0         2                 2            0           2  \n",
       "1         1                 2            1           3  \n",
       "2         1                 2            1           3  \n",
       "3         1                 2            1           2  \n",
       "4         1                 2            1           2  "
      ]
     },
     "execution_count": 47,
     "metadata": {},
     "output_type": "execute_result"
    }
   ],
   "source": [
    "df.head()"
   ]
  },
  {
   "cell_type": "code",
   "execution_count": 48,
   "id": "440bda08",
   "metadata": {
    "execution": {
     "iopub.execute_input": "2022-10-11T20:33:16.381531Z",
     "iopub.status.busy": "2022-10-11T20:33:16.380601Z",
     "iopub.status.idle": "2022-10-11T20:33:16.389844Z",
     "shell.execute_reply": "2022-10-11T20:33:16.388596Z"
    },
    "papermill": {
     "duration": 0.04032,
     "end_time": "2022-10-11T20:33:16.392035",
     "exception": false,
     "start_time": "2022-10-11T20:33:16.351715",
     "status": "completed"
    },
    "tags": []
   },
   "outputs": [
    {
     "data": {
      "text/plain": [
       "array(['Kolkata', 'Mumbai', 'Bangalore', 'Delhi', 'Chennai', 'Hyderabad'],\n",
       "      dtype=object)"
      ]
     },
     "execution_count": 48,
     "metadata": {},
     "output_type": "execute_result"
    }
   ],
   "source": [
    "df[\"City\"].unique()"
   ]
  },
  {
   "cell_type": "code",
   "execution_count": 49,
   "id": "2042e706",
   "metadata": {
    "execution": {
     "iopub.execute_input": "2022-10-11T20:33:16.448378Z",
     "iopub.status.busy": "2022-10-11T20:33:16.447948Z",
     "iopub.status.idle": "2022-10-11T20:33:16.663022Z",
     "shell.execute_reply": "2022-10-11T20:33:16.662211Z"
    },
    "papermill": {
     "duration": 0.246059,
     "end_time": "2022-10-11T20:33:16.665232",
     "exception": false,
     "start_time": "2022-10-11T20:33:16.419173",
     "status": "completed"
    },
    "tags": []
   },
   "outputs": [
    {
     "data": {
      "text/plain": [
       "<AxesSubplot:xlabel='City'>"
      ]
     },
     "execution_count": 49,
     "metadata": {},
     "output_type": "execute_result"
    },
    {
     "data": {
      "image/png": "[encoded data removed]",
      "text/plain": [
       "<Figure size 432x288 with 1 Axes>"
      ]
     },
     "metadata": {
      "needs_background": "light"
     },
     "output_type": "display_data"
    }
   ],
   "source": [
    "df.groupby(\"City\")['Rent'].median().sort_values(ascending=False).plot(kind='bar')"
   ]
  },
  {
   "cell_type": "markdown",
   "id": "c2204e50",
   "metadata": {
    "papermill": {
     "duration": 0.027345,
     "end_time": "2022-10-11T20:33:16.720369",
     "exception": false,
     "start_time": "2022-10-11T20:33:16.693024",
     "status": "completed"
    },
    "tags": []
   },
   "source": [
    "***# We have 6 cities in the \"City\" column. From now on 'Kolkata':0,'Mumbai':1,'Bangalore':2,'Delhi':3,'Chennai':4,'Hyderabad':5.***"
   ]
  },
  {
   "cell_type": "code",
   "execution_count": 50,
   "id": "d37e32c2",
   "metadata": {
    "execution": {
     "iopub.execute_input": "2022-10-11T20:33:16.778043Z",
     "iopub.status.busy": "2022-10-11T20:33:16.777557Z",
     "iopub.status.idle": "2022-10-11T20:33:16.788367Z",
     "shell.execute_reply": "2022-10-11T20:33:16.787261Z"
    },
    "papermill": {
     "duration": 0.042375,
     "end_time": "2022-10-11T20:33:16.790692",
     "exception": false,
     "start_time": "2022-10-11T20:33:16.748317",
     "status": "completed"
    },
    "tags": []
   },
   "outputs": [
    {
     "data": {
      "text/plain": [
       "array([4, 5, 0, 2, 1, 3])"
      ]
     },
     "execution_count": 50,
     "metadata": {},
     "output_type": "execute_result"
    }
   ],
   "source": [
    "label_encoder = preprocessing.LabelEncoder()\n",
    "  \n",
    "# Encode labels in column \"Area Type\".\n",
    "df['City']= label_encoder.fit_transform(df['City'])\n",
    "  \n",
    "df['City'].unique()"
   ]
  },
  {
   "cell_type": "code",
   "execution_count": 51,
   "id": "9a26f23f",
   "metadata": {
    "execution": {
     "iopub.execute_input": "2022-10-11T20:33:16.852824Z",
     "iopub.status.busy": "2022-10-11T20:33:16.852358Z",
     "iopub.status.idle": "2022-10-11T20:33:16.870781Z",
     "shell.execute_reply": "2022-10-11T20:33:16.869651Z"
    },
    "papermill": {
     "duration": 0.054397,
     "end_time": "2022-10-11T20:33:16.873120",
     "exception": false,
     "start_time": "2022-10-11T20:33:16.818723",
     "status": "completed"
    },
    "tags": []
   },
   "outputs": [
    {
     "data": {
      "text/html": [
       "<div>\n",
       "<style scoped>\n",
       "    .dataframe tbody tr th:only-of-type {\n",
       "        vertical-align: middle;\n",
       "    }\n",
       "\n",
       "    .dataframe tbody tr th {\n",
       "        vertical-align: top;\n",
       "    }\n",
       "\n",
       "    .dataframe thead th {\n",
       "        text-align: right;\n",
       "    }\n",
       "</style>\n",
       "<table border=\"1\" class=\"dataframe\">\n",
       "  <thead>\n",
       "    <tr style=\"text-align: right;\">\n",
       "      <th></th>\n",
       "      <th>BHK</th>\n",
       "      <th>Rent</th>\n",
       "      <th>Size</th>\n",
       "      <th>Area Type</th>\n",
       "      <th>City</th>\n",
       "      <th>Furnishing Status</th>\n",
       "      <th>Tenant Preferred</th>\n",
       "      <th>Bathroom</th>\n",
       "      <th>Point of Contact</th>\n",
       "      <th>Floor Number</th>\n",
       "      <th>Total Floor</th>\n",
       "    </tr>\n",
       "  </thead>\n",
       "  <tbody>\n",
       "    <tr>\n",
       "      <th>0</th>\n",
       "      <td>2</td>\n",
       "      <td>10000</td>\n",
       "      <td>1100</td>\n",
       "      <td>2</td>\n",
       "      <td>4</td>\n",
       "      <td>2</td>\n",
       "      <td>1</td>\n",
       "      <td>2</td>\n",
       "      <td>2</td>\n",
       "      <td>0</td>\n",
       "      <td>2</td>\n",
       "    </tr>\n",
       "    <tr>\n",
       "      <th>1</th>\n",
       "      <td>2</td>\n",
       "      <td>20000</td>\n",
       "      <td>800</td>\n",
       "      <td>2</td>\n",
       "      <td>4</td>\n",
       "      <td>1</td>\n",
       "      <td>1</td>\n",
       "      <td>1</td>\n",
       "      <td>2</td>\n",
       "      <td>1</td>\n",
       "      <td>3</td>\n",
       "    </tr>\n",
       "    <tr>\n",
       "      <th>2</th>\n",
       "      <td>2</td>\n",
       "      <td>17000</td>\n",
       "      <td>1000</td>\n",
       "      <td>2</td>\n",
       "      <td>4</td>\n",
       "      <td>1</td>\n",
       "      <td>1</td>\n",
       "      <td>1</td>\n",
       "      <td>2</td>\n",
       "      <td>1</td>\n",
       "      <td>3</td>\n",
       "    </tr>\n",
       "    <tr>\n",
       "      <th>3</th>\n",
       "      <td>2</td>\n",
       "      <td>10000</td>\n",
       "      <td>800</td>\n",
       "      <td>2</td>\n",
       "      <td>4</td>\n",
       "      <td>2</td>\n",
       "      <td>1</td>\n",
       "      <td>1</td>\n",
       "      <td>2</td>\n",
       "      <td>1</td>\n",
       "      <td>2</td>\n",
       "    </tr>\n",
       "    <tr>\n",
       "      <th>4</th>\n",
       "      <td>2</td>\n",
       "      <td>7500</td>\n",
       "      <td>850</td>\n",
       "      <td>1</td>\n",
       "      <td>4</td>\n",
       "      <td>2</td>\n",
       "      <td>0</td>\n",
       "      <td>1</td>\n",
       "      <td>2</td>\n",
       "      <td>1</td>\n",
       "      <td>2</td>\n",
       "    </tr>\n",
       "    <tr>\n",
       "      <th>5</th>\n",
       "      <td>2</td>\n",
       "      <td>7000</td>\n",
       "      <td>600</td>\n",
       "      <td>2</td>\n",
       "      <td>4</td>\n",
       "      <td>2</td>\n",
       "      <td>1</td>\n",
       "      <td>2</td>\n",
       "      <td>2</td>\n",
       "      <td>0</td>\n",
       "      <td>1</td>\n",
       "    </tr>\n",
       "    <tr>\n",
       "      <th>6</th>\n",
       "      <td>2</td>\n",
       "      <td>10000</td>\n",
       "      <td>700</td>\n",
       "      <td>2</td>\n",
       "      <td>4</td>\n",
       "      <td>2</td>\n",
       "      <td>0</td>\n",
       "      <td>2</td>\n",
       "      <td>0</td>\n",
       "      <td>0</td>\n",
       "      <td>4</td>\n",
       "    </tr>\n",
       "    <tr>\n",
       "      <th>7</th>\n",
       "      <td>1</td>\n",
       "      <td>5000</td>\n",
       "      <td>250</td>\n",
       "      <td>2</td>\n",
       "      <td>4</td>\n",
       "      <td>2</td>\n",
       "      <td>0</td>\n",
       "      <td>1</td>\n",
       "      <td>0</td>\n",
       "      <td>1</td>\n",
       "      <td>2</td>\n",
       "    </tr>\n",
       "    <tr>\n",
       "      <th>8</th>\n",
       "      <td>2</td>\n",
       "      <td>26000</td>\n",
       "      <td>800</td>\n",
       "      <td>1</td>\n",
       "      <td>4</td>\n",
       "      <td>2</td>\n",
       "      <td>0</td>\n",
       "      <td>2</td>\n",
       "      <td>0</td>\n",
       "      <td>1</td>\n",
       "      <td>2</td>\n",
       "    </tr>\n",
       "    <tr>\n",
       "      <th>9</th>\n",
       "      <td>2</td>\n",
       "      <td>10000</td>\n",
       "      <td>1000</td>\n",
       "      <td>1</td>\n",
       "      <td>4</td>\n",
       "      <td>1</td>\n",
       "      <td>1</td>\n",
       "      <td>2</td>\n",
       "      <td>2</td>\n",
       "      <td>1</td>\n",
       "      <td>3</td>\n",
       "    </tr>\n",
       "    <tr>\n",
       "      <th>10</th>\n",
       "      <td>3</td>\n",
       "      <td>25000</td>\n",
       "      <td>1200</td>\n",
       "      <td>1</td>\n",
       "      <td>4</td>\n",
       "      <td>1</td>\n",
       "      <td>1</td>\n",
       "      <td>2</td>\n",
       "      <td>0</td>\n",
       "      <td>1</td>\n",
       "      <td>4</td>\n",
       "    </tr>\n",
       "    <tr>\n",
       "      <th>11</th>\n",
       "      <td>1</td>\n",
       "      <td>5000</td>\n",
       "      <td>400</td>\n",
       "      <td>1</td>\n",
       "      <td>4</td>\n",
       "      <td>2</td>\n",
       "      <td>1</td>\n",
       "      <td>1</td>\n",
       "      <td>0</td>\n",
       "      <td>1</td>\n",
       "      <td>1</td>\n",
       "    </tr>\n",
       "    <tr>\n",
       "      <th>12</th>\n",
       "      <td>1</td>\n",
       "      <td>6500</td>\n",
       "      <td>250</td>\n",
       "      <td>1</td>\n",
       "      <td>4</td>\n",
       "      <td>0</td>\n",
       "      <td>0</td>\n",
       "      <td>1</td>\n",
       "      <td>2</td>\n",
       "      <td>1</td>\n",
       "      <td>4</td>\n",
       "    </tr>\n",
       "    <tr>\n",
       "      <th>13</th>\n",
       "      <td>1</td>\n",
       "      <td>5500</td>\n",
       "      <td>375</td>\n",
       "      <td>1</td>\n",
       "      <td>4</td>\n",
       "      <td>2</td>\n",
       "      <td>1</td>\n",
       "      <td>1</td>\n",
       "      <td>0</td>\n",
       "      <td>1</td>\n",
       "      <td>2</td>\n",
       "    </tr>\n",
       "    <tr>\n",
       "      <th>14</th>\n",
       "      <td>3</td>\n",
       "      <td>8500</td>\n",
       "      <td>900</td>\n",
       "      <td>1</td>\n",
       "      <td>4</td>\n",
       "      <td>2</td>\n",
       "      <td>0</td>\n",
       "      <td>2</td>\n",
       "      <td>2</td>\n",
       "      <td>0</td>\n",
       "      <td>2</td>\n",
       "    </tr>\n",
       "    <tr>\n",
       "      <th>15</th>\n",
       "      <td>3</td>\n",
       "      <td>40000</td>\n",
       "      <td>1286</td>\n",
       "      <td>1</td>\n",
       "      <td>4</td>\n",
       "      <td>0</td>\n",
       "      <td>1</td>\n",
       "      <td>2</td>\n",
       "      <td>2</td>\n",
       "      <td>1</td>\n",
       "      <td>1</td>\n",
       "    </tr>\n",
       "    <tr>\n",
       "      <th>16</th>\n",
       "      <td>2</td>\n",
       "      <td>6000</td>\n",
       "      <td>600</td>\n",
       "      <td>2</td>\n",
       "      <td>4</td>\n",
       "      <td>1</td>\n",
       "      <td>1</td>\n",
       "      <td>1</td>\n",
       "      <td>2</td>\n",
       "      <td>1</td>\n",
       "      <td>2</td>\n",
       "    </tr>\n",
       "    <tr>\n",
       "      <th>17</th>\n",
       "      <td>2</td>\n",
       "      <td>10000</td>\n",
       "      <td>800</td>\n",
       "      <td>2</td>\n",
       "      <td>4</td>\n",
       "      <td>2</td>\n",
       "      <td>1</td>\n",
       "      <td>1</td>\n",
       "      <td>2</td>\n",
       "      <td>0</td>\n",
       "      <td>2</td>\n",
       "    </tr>\n",
       "    <tr>\n",
       "      <th>18</th>\n",
       "      <td>2</td>\n",
       "      <td>11000</td>\n",
       "      <td>2000</td>\n",
       "      <td>1</td>\n",
       "      <td>4</td>\n",
       "      <td>2</td>\n",
       "      <td>1</td>\n",
       "      <td>1</td>\n",
       "      <td>2</td>\n",
       "      <td>0</td>\n",
       "      <td>3</td>\n",
       "    </tr>\n",
       "    <tr>\n",
       "      <th>19</th>\n",
       "      <td>2</td>\n",
       "      <td>6000</td>\n",
       "      <td>660</td>\n",
       "      <td>2</td>\n",
       "      <td>4</td>\n",
       "      <td>2</td>\n",
       "      <td>1</td>\n",
       "      <td>1</td>\n",
       "      <td>2</td>\n",
       "      <td>1</td>\n",
       "      <td>2</td>\n",
       "    </tr>\n",
       "  </tbody>\n",
       "</table>\n",
       "</div>"
      ],
      "text/plain": [
       "    BHK   Rent  Size  Area Type  City  Furnishing Status  Tenant Preferred  \\\n",
       "0     2  10000  1100          2     4                  2                 1   \n",
       "1     2  20000   800          2     4                  1                 1   \n",
       "2     2  17000  1000          2     4                  1                 1   \n",
       "3     2  10000   800          2     4                  2                 1   \n",
       "4     2   7500   850          1     4                  2                 0   \n",
       "5     2   7000   600          2     4                  2                 1   \n",
       "6     2  10000   700          2     4                  2                 0   \n",
       "7     1   5000   250          2     4                  2                 0   \n",
       "8     2  26000   800          1     4                  2                 0   \n",
       "9     2  10000  1000          1     4                  1                 1   \n",
       "10    3  25000  1200          1     4                  1                 1   \n",
       "11    1   5000   400          1     4                  2                 1   \n",
       "12    1   6500   250          1     4                  0                 0   \n",
       "13    1   5500   375          1     4                  2                 1   \n",
       "14    3   8500   900          1     4                  2                 0   \n",
       "15    3  40000  1286          1     4                  0                 1   \n",
       "16    2   6000   600          2     4                  1                 1   \n",
       "17    2  10000   800          2     4                  2                 1   \n",
       "18    2  11000  2000          1     4                  2                 1   \n",
       "19    2   6000   660          2     4                  2                 1   \n",
       "\n",
       "    Bathroom  Point of Contact Floor Number Total Floor  \n",
       "0          2                 2            0           2  \n",
       "1          1                 2            1           3  \n",
       "2          1                 2            1           3  \n",
       "3          1                 2            1           2  \n",
       "4          1                 2            1           2  \n",
       "5          2                 2            0           1  \n",
       "6          2                 0            0           4  \n",
       "7          1                 0            1           2  \n",
       "8          2                 0            1           2  \n",
       "9          2                 2            1           3  \n",
       "10         2                 0            1           4  \n",
       "11         1                 0            1           1  \n",
       "12         1                 2            1           4  \n",
       "13         1                 0            1           2  \n",
       "14         2                 2            0           2  \n",
       "15         2                 2            1           1  \n",
       "16         1                 2            1           2  \n",
       "17         1                 2            0           2  \n",
       "18         1                 2            0           3  \n",
       "19         1                 2            1           2  "
      ]
     },
     "execution_count": 51,
     "metadata": {},
     "output_type": "execute_result"
    }
   ],
   "source": [
    "df.head(20)"
   ]
  },
  {
   "cell_type": "markdown",
   "id": "64099aa9",
   "metadata": {
    "papermill": {
     "duration": 0.029022,
     "end_time": "2022-10-11T20:33:16.931200",
     "exception": false,
     "start_time": "2022-10-11T20:33:16.902178",
     "status": "completed"
    },
    "tags": []
   },
   "source": [
    "***Our rent value and Size of the houses are so high, it is better to use minmax_scale to change these values from 0 to 1.***"
   ]
  },
  {
   "cell_type": "code",
   "execution_count": 52,
   "id": "9d5a8d37",
   "metadata": {
    "execution": {
     "iopub.execute_input": "2022-10-11T20:33:16.990752Z",
     "iopub.status.busy": "2022-10-11T20:33:16.989531Z",
     "iopub.status.idle": "2022-10-11T20:33:16.996077Z",
     "shell.execute_reply": "2022-10-11T20:33:16.995262Z"
    },
    "papermill": {
     "duration": 0.038528,
     "end_time": "2022-10-11T20:33:16.998388",
     "exception": false,
     "start_time": "2022-10-11T20:33:16.959860",
     "status": "completed"
    },
    "tags": []
   },
   "outputs": [],
   "source": [
    "#min-max scale\n",
    "from sklearn.preprocessing import minmax_scale\n",
    "\n",
    "df[\"Rent\"] = minmax_scale(df[\"Rent\"])"
   ]
  },
  {
   "cell_type": "code",
   "execution_count": 53,
   "id": "7847d98e",
   "metadata": {
    "execution": {
     "iopub.execute_input": "2022-10-11T20:33:17.056736Z",
     "iopub.status.busy": "2022-10-11T20:33:17.056272Z",
     "iopub.status.idle": "2022-10-11T20:33:17.063803Z",
     "shell.execute_reply": "2022-10-11T20:33:17.062664Z"
    },
    "papermill": {
     "duration": 0.039882,
     "end_time": "2022-10-11T20:33:17.066315",
     "exception": false,
     "start_time": "2022-10-11T20:33:17.026433",
     "status": "completed"
    },
    "tags": []
   },
   "outputs": [
    {
     "name": "stdout",
     "output_type": "stream",
     "text": [
      "0       0.002515\n",
      "1       0.005373\n",
      "2       0.004516\n",
      "3       0.002515\n",
      "4       0.001801\n",
      "          ...   \n",
      "4741    0.003944\n",
      "4742    0.007946\n",
      "4743    0.009660\n",
      "4744    0.012519\n",
      "4745    0.003944\n",
      "Name: Rent, Length: 4746, dtype: float64\n"
     ]
    }
   ],
   "source": [
    "print(df[\"Rent\"])"
   ]
  },
  {
   "cell_type": "code",
   "execution_count": 54,
   "id": "a3c3ce6c",
   "metadata": {
    "execution": {
     "iopub.execute_input": "2022-10-11T20:33:17.126430Z",
     "iopub.status.busy": "2022-10-11T20:33:17.125006Z",
     "iopub.status.idle": "2022-10-11T20:33:17.132884Z",
     "shell.execute_reply": "2022-10-11T20:33:17.131808Z"
    },
    "papermill": {
     "duration": 0.040211,
     "end_time": "2022-10-11T20:33:17.135108",
     "exception": false,
     "start_time": "2022-10-11T20:33:17.094897",
     "status": "completed"
    },
    "tags": []
   },
   "outputs": [],
   "source": [
    "from sklearn.preprocessing import minmax_scale\n",
    "\n",
    "df[\"Size\"] = minmax_scale(df[\"Size\"])"
   ]
  },
  {
   "cell_type": "code",
   "execution_count": 55,
   "id": "f32897f0",
   "metadata": {
    "execution": {
     "iopub.execute_input": "2022-10-11T20:33:17.194456Z",
     "iopub.status.busy": "2022-10-11T20:33:17.193697Z",
     "iopub.status.idle": "2022-10-11T20:33:17.207984Z",
     "shell.execute_reply": "2022-10-11T20:33:17.206879Z"
    },
    "papermill": {
     "duration": 0.046741,
     "end_time": "2022-10-11T20:33:17.210154",
     "exception": false,
     "start_time": "2022-10-11T20:33:17.163413",
     "status": "completed"
    },
    "tags": []
   },
   "outputs": [
    {
     "data": {
      "text/html": [
       "<div>\n",
       "<style scoped>\n",
       "    .dataframe tbody tr th:only-of-type {\n",
       "        vertical-align: middle;\n",
       "    }\n",
       "\n",
       "    .dataframe tbody tr th {\n",
       "        vertical-align: top;\n",
       "    }\n",
       "\n",
       "    .dataframe thead th {\n",
       "        text-align: right;\n",
       "    }\n",
       "</style>\n",
       "<table border=\"1\" class=\"dataframe\">\n",
       "  <thead>\n",
       "    <tr style=\"text-align: right;\">\n",
       "      <th></th>\n",
       "      <th>BHK</th>\n",
       "      <th>Rent</th>\n",
       "      <th>Size</th>\n",
       "      <th>Area Type</th>\n",
       "      <th>City</th>\n",
       "      <th>Furnishing Status</th>\n",
       "      <th>Tenant Preferred</th>\n",
       "      <th>Bathroom</th>\n",
       "      <th>Point of Contact</th>\n",
       "      <th>Floor Number</th>\n",
       "      <th>Total Floor</th>\n",
       "    </tr>\n",
       "  </thead>\n",
       "  <tbody>\n",
       "    <tr>\n",
       "      <th>0</th>\n",
       "      <td>2</td>\n",
       "      <td>0.002515</td>\n",
       "      <td>0.136421</td>\n",
       "      <td>2</td>\n",
       "      <td>4</td>\n",
       "      <td>2</td>\n",
       "      <td>1</td>\n",
       "      <td>2</td>\n",
       "      <td>2</td>\n",
       "      <td>0</td>\n",
       "      <td>2</td>\n",
       "    </tr>\n",
       "    <tr>\n",
       "      <th>1</th>\n",
       "      <td>2</td>\n",
       "      <td>0.005373</td>\n",
       "      <td>0.098874</td>\n",
       "      <td>2</td>\n",
       "      <td>4</td>\n",
       "      <td>1</td>\n",
       "      <td>1</td>\n",
       "      <td>1</td>\n",
       "      <td>2</td>\n",
       "      <td>1</td>\n",
       "      <td>3</td>\n",
       "    </tr>\n",
       "    <tr>\n",
       "      <th>2</th>\n",
       "      <td>2</td>\n",
       "      <td>0.004516</td>\n",
       "      <td>0.123905</td>\n",
       "      <td>2</td>\n",
       "      <td>4</td>\n",
       "      <td>1</td>\n",
       "      <td>1</td>\n",
       "      <td>1</td>\n",
       "      <td>2</td>\n",
       "      <td>1</td>\n",
       "      <td>3</td>\n",
       "    </tr>\n",
       "    <tr>\n",
       "      <th>3</th>\n",
       "      <td>2</td>\n",
       "      <td>0.002515</td>\n",
       "      <td>0.098874</td>\n",
       "      <td>2</td>\n",
       "      <td>4</td>\n",
       "      <td>2</td>\n",
       "      <td>1</td>\n",
       "      <td>1</td>\n",
       "      <td>2</td>\n",
       "      <td>1</td>\n",
       "      <td>2</td>\n",
       "    </tr>\n",
       "    <tr>\n",
       "      <th>4</th>\n",
       "      <td>2</td>\n",
       "      <td>0.001801</td>\n",
       "      <td>0.105131</td>\n",
       "      <td>1</td>\n",
       "      <td>4</td>\n",
       "      <td>2</td>\n",
       "      <td>0</td>\n",
       "      <td>1</td>\n",
       "      <td>2</td>\n",
       "      <td>1</td>\n",
       "      <td>2</td>\n",
       "    </tr>\n",
       "  </tbody>\n",
       "</table>\n",
       "</div>"
      ],
      "text/plain": [
       "   BHK      Rent      Size  Area Type  City  Furnishing Status  \\\n",
       "0    2  0.002515  0.136421          2     4                  2   \n",
       "1    2  0.005373  0.098874          2     4                  1   \n",
       "2    2  0.004516  0.123905          2     4                  1   \n",
       "3    2  0.002515  0.098874          2     4                  2   \n",
       "4    2  0.001801  0.105131          1     4                  2   \n",
       "\n",
       "   Tenant Preferred  Bathroom  Point of Contact Floor Number Total Floor  \n",
       "0                 1         2                 2            0           2  \n",
       "1                 1         1                 2            1           3  \n",
       "2                 1         1                 2            1           3  \n",
       "3                 1         1                 2            1           2  \n",
       "4                 0         1                 2            1           2  "
      ]
     },
     "execution_count": 55,
     "metadata": {},
     "output_type": "execute_result"
    }
   ],
   "source": [
    "df.head()"
   ]
  },
  {
   "cell_type": "markdown",
   "id": "c2ae6843",
   "metadata": {
    "papermill": {
     "duration": 0.028347,
     "end_time": "2022-10-11T20:33:17.267810",
     "exception": false,
     "start_time": "2022-10-11T20:33:17.239463",
     "status": "completed"
    },
    "tags": []
   },
   "source": [
    "# **ML**"
   ]
  },
  {
   "cell_type": "code",
   "execution_count": 56,
   "id": "afb5e7cf",
   "metadata": {
    "execution": {
     "iopub.execute_input": "2022-10-11T20:33:17.327490Z",
     "iopub.status.busy": "2022-10-11T20:33:17.326761Z",
     "iopub.status.idle": "2022-10-11T20:33:18.855506Z",
     "shell.execute_reply": "2022-10-11T20:33:18.854509Z"
    },
    "papermill": {
     "duration": 1.561484,
     "end_time": "2022-10-11T20:33:18.858187",
     "exception": false,
     "start_time": "2022-10-11T20:33:17.296703",
     "status": "completed"
    },
    "tags": []
   },
   "outputs": [
    {
     "data": {
      "text/html": [
       "<style type='text/css'>\n",
       ".datatable table.frame { margin-bottom: 0; }\n",
       ".datatable table.frame thead { border-bottom: none; }\n",
       ".datatable table.frame tr.coltypes td {  color: #FFFFFF;  line-height: 6px;  padding: 0 0.5em;}\n",
       ".datatable .bool    { background: #DDDD99; }\n",
       ".datatable .object  { background: #565656; }\n",
       ".datatable .int     { background: #5D9E5D; }\n",
       ".datatable .float   { background: #4040CC; }\n",
       ".datatable .str     { background: #CC4040; }\n",
       ".datatable .time    { background: #40CC40; }\n",
       ".datatable .row_index {  background: var(--jp-border-color3);  border-right: 1px solid var(--jp-border-color0);  color: var(--jp-ui-font-color3);  font-size: 9px;}\n",
       ".datatable .frame tbody td { text-align: left; }\n",
       ".datatable .frame tr.coltypes .row_index {  background: var(--jp-border-color0);}\n",
       ".datatable th:nth-child(2) { padding-left: 12px; }\n",
       ".datatable .hellipsis {  color: var(--jp-cell-editor-border-color);}\n",
       ".datatable .vellipsis {  background: var(--jp-layout-color0);  color: var(--jp-cell-editor-border-color);}\n",
       ".datatable .na {  color: var(--jp-cell-editor-border-color);  font-size: 80%;}\n",
       ".datatable .sp {  opacity: 0.25;}\n",
       ".datatable .footer { font-size: 9px; }\n",
       ".datatable .frame_dimensions {  background: var(--jp-border-color3);  border-top: 1px solid var(--jp-border-color0);  color: var(--jp-ui-font-color3);  display: inline-block;  opacity: 0.6;  padding: 1px 10px 1px 5px;}\n",
       "</style>\n"
      ],
      "text/plain": [
       "<IPython.core.display.HTML object>"
      ]
     },
     "metadata": {},
     "output_type": "display_data"
    }
   ],
   "source": [
    "#Data Preprocessing\n",
    "from sklearn.preprocessing import LabelEncoder,StandardScaler\n",
    "from sklearn.model_selection import train_test_split,cross_val_score,KFold\n",
    "#Importing Models\n",
    "from sklearn.linear_model import LinearRegression,Lasso,Ridge,BayesianRidge\n",
    "from sklearn.neighbors import KNeighborsRegressor\n",
    "from sklearn.ensemble import RandomForestRegressor, GradientBoostingRegressor\n",
    "from sklearn.svm import SVR\n",
    "from catboost import CatBoostRegressor\n",
    "from lightgbm import LGBMRegressor\n",
    "from xgboost import XGBRegressor\n",
    "from sklearn.metrics import r2_score,mean_squared_error"
   ]
  },
  {
   "cell_type": "markdown",
   "id": "893b97fa",
   "metadata": {
    "papermill": {
     "duration": 0.028099,
     "end_time": "2022-10-11T20:33:18.915422",
     "exception": false,
     "start_time": "2022-10-11T20:33:18.887323",
     "status": "completed"
    },
    "tags": []
   },
   "source": [
    "*** split the dataset back to train and test sets\n",
    "***"
   ]
  },
  {
   "cell_type": "code",
   "execution_count": 57,
   "id": "7d59a4df",
   "metadata": {
    "execution": {
     "iopub.execute_input": "2022-10-11T20:33:18.974227Z",
     "iopub.status.busy": "2022-10-11T20:33:18.973770Z",
     "iopub.status.idle": "2022-10-11T20:33:18.998086Z",
     "shell.execute_reply": "2022-10-11T20:33:18.997019Z"
    },
    "papermill": {
     "duration": 0.056995,
     "end_time": "2022-10-11T20:33:19.000724",
     "exception": false,
     "start_time": "2022-10-11T20:33:18.943729",
     "status": "completed"
    },
    "tags": []
   },
   "outputs": [],
   "source": [
    "X=df.drop('Rent',axis=1)\n",
    "y=df['Rent']\n",
    "# Train-Test Split\n",
    "X_train,X_test,y_train,y_test=train_test_split(X,y,test_size=0.2,random_state=42)\n",
    "ss=StandardScaler()\n",
    "X_train=ss.fit_transform(X_train)\n",
    "X_test=ss.transform(X_test)"
   ]
  },
  {
   "cell_type": "code",
   "execution_count": 58,
   "id": "095ff13a",
   "metadata": {
    "execution": {
     "iopub.execute_input": "2022-10-11T20:33:19.059466Z",
     "iopub.status.busy": "2022-10-11T20:33:19.059045Z",
     "iopub.status.idle": "2022-10-11T20:33:19.070122Z",
     "shell.execute_reply": "2022-10-11T20:33:19.069091Z"
    },
    "papermill": {
     "duration": 0.043342,
     "end_time": "2022-10-11T20:33:19.072382",
     "exception": false,
     "start_time": "2022-10-11T20:33:19.029040",
     "status": "completed"
    },
    "tags": []
   },
   "outputs": [],
   "source": [
    "models = {\n",
    "    'Linear' : LinearRegression(),\n",
    "    'ridge' : Ridge(),\n",
    "    'xgboost' : XGBRegressor(),\n",
    "    'catboost' : CatBoostRegressor(verbose=0),\n",
    "    'lightgbm' : LGBMRegressor(),\n",
    "    'gradient boosting' : GradientBoostingRegressor(),\n",
    "    'lasso' : Lasso(),\n",
    "    'random forest' : RandomForestRegressor(),\n",
    "    'bayesian ridge' : BayesianRidge(),\n",
    "    'support vector': SVR(),\n",
    "    'knn' : KNeighborsRegressor(n_neighbors = 4)\n",
    "}"
   ]
  },
  {
   "cell_type": "markdown",
   "id": "4d9884be",
   "metadata": {
    "papermill": {
     "duration": 0.028992,
     "end_time": "2022-10-11T20:33:19.129793",
     "exception": false,
     "start_time": "2022-10-11T20:33:19.100801",
     "status": "completed"
    },
    "tags": []
   },
   "source": [
    "*** Training Different Models\n",
    "***"
   ]
  },
  {
   "cell_type": "code",
   "execution_count": 59,
   "id": "88fdb417",
   "metadata": {
    "execution": {
     "iopub.execute_input": "2022-10-11T20:33:19.190789Z",
     "iopub.status.busy": "2022-10-11T20:33:19.190324Z",
     "iopub.status.idle": "2022-10-11T20:33:23.200692Z",
     "shell.execute_reply": "2022-10-11T20:33:23.198453Z"
    },
    "papermill": {
     "duration": 4.046071,
     "end_time": "2022-10-11T20:33:23.205774",
     "exception": false,
     "start_time": "2022-10-11T20:33:19.159703",
     "status": "completed"
    },
    "tags": []
   },
   "outputs": [
    {
     "name": "stdout",
     "output_type": "stream",
     "text": [
      "Linear trained\n",
      "ridge trained\n",
      "xgboost trained\n",
      "catboost trained\n",
      "lightgbm trained\n",
      "gradient boosting trained\n",
      "lasso trained\n",
      "random forest trained\n",
      "bayesian ridge trained\n",
      "support vector trained\n",
      "knn trained\n"
     ]
    }
   ],
   "source": [
    "for name, model in models.items():\n",
    "    model.fit(X_train, y_train)\n",
    "    print(f'{name} trained')"
   ]
  },
  {
   "cell_type": "markdown",
   "id": "110448e6",
   "metadata": {
    "papermill": {
     "duration": 0.028782,
     "end_time": "2022-10-11T20:33:23.295406",
     "exception": false,
     "start_time": "2022-10-11T20:33:23.266624",
     "status": "completed"
    },
    "tags": []
   },
   "source": [
    "*** evulating the model.***"
   ]
  },
  {
   "cell_type": "code",
   "execution_count": 60,
   "id": "78e4593e",
   "metadata": {
    "execution": {
     "iopub.execute_input": "2022-10-11T20:33:23.355915Z",
     "iopub.status.busy": "2022-10-11T20:33:23.355466Z",
     "iopub.status.idle": "2022-10-11T20:33:57.945077Z",
     "shell.execute_reply": "2022-10-11T20:33:57.944158Z"
    },
    "papermill": {
     "duration": 34.62343,
     "end_time": "2022-10-11T20:33:57.947881",
     "exception": false,
     "start_time": "2022-10-11T20:33:23.324451",
     "status": "completed"
    },
    "tags": []
   },
   "outputs": [],
   "source": [
    "results = {}\n",
    "kf = KFold(n_splits= 10)\n",
    "\n",
    "for name, model in models.items():\n",
    "    result = np.mean(np.sqrt(-cross_val_score(model, X_train, y_train,scoring='neg_mean_squared_error', cv= kf)))\n",
    "    results[name] = result"
   ]
  },
  {
   "cell_type": "code",
   "execution_count": 61,
   "id": "2aa6d17d",
   "metadata": {
    "execution": {
     "iopub.execute_input": "2022-10-11T20:33:58.009064Z",
     "iopub.status.busy": "2022-10-11T20:33:58.008671Z",
     "iopub.status.idle": "2022-10-11T20:33:58.015694Z",
     "shell.execute_reply": "2022-10-11T20:33:58.014266Z"
    },
    "papermill": {
     "duration": 0.040643,
     "end_time": "2022-10-11T20:33:58.018593",
     "exception": false,
     "start_time": "2022-10-11T20:33:57.977950",
     "status": "completed"
    },
    "tags": []
   },
   "outputs": [
    {
     "name": "stdout",
     "output_type": "stream",
     "text": [
      "Linear : 0.016\n",
      "ridge : 0.016\n",
      "xgboost : 0.02\n",
      "catboost : 0.018\n",
      "lightgbm : 0.014\n",
      "gradient boosting : 0.017\n",
      "lasso : 0.02\n",
      "random forest : 0.018\n",
      "bayesian ridge : 0.016\n",
      "support vector : 0.087\n",
      "knn : 0.017\n"
     ]
    }
   ],
   "source": [
    "for name, result in results.items():\n",
    "    print(f\"{name} : {round(result, 3)}\")"
   ]
  },
  {
   "cell_type": "code",
   "execution_count": 62,
   "id": "7efa874e",
   "metadata": {
    "execution": {
     "iopub.execute_input": "2022-10-11T20:33:58.079475Z",
     "iopub.status.busy": "2022-10-11T20:33:58.078686Z",
     "iopub.status.idle": "2022-10-11T20:33:58.098429Z",
     "shell.execute_reply": "2022-10-11T20:33:58.097074Z"
    },
    "papermill": {
     "duration": 0.053031,
     "end_time": "2022-10-11T20:33:58.101005",
     "exception": false,
     "start_time": "2022-10-11T20:33:58.047974",
     "status": "completed"
    },
    "tags": []
   },
   "outputs": [
    {
     "data": {
      "text/html": [
       "<div>\n",
       "<style scoped>\n",
       "    .dataframe tbody tr th:only-of-type {\n",
       "        vertical-align: middle;\n",
       "    }\n",
       "\n",
       "    .dataframe tbody tr th {\n",
       "        vertical-align: top;\n",
       "    }\n",
       "\n",
       "    .dataframe thead th {\n",
       "        text-align: right;\n",
       "    }\n",
       "</style>\n",
       "<table border=\"1\" class=\"dataframe\">\n",
       "  <thead>\n",
       "    <tr style=\"text-align: right;\">\n",
       "      <th></th>\n",
       "      <th>support vector</th>\n",
       "      <th>lasso</th>\n",
       "      <th>xgboost</th>\n",
       "      <th>random forest</th>\n",
       "      <th>catboost</th>\n",
       "      <th>gradient boosting</th>\n",
       "      <th>knn</th>\n",
       "      <th>Linear</th>\n",
       "      <th>ridge</th>\n",
       "      <th>bayesian ridge</th>\n",
       "      <th>lightgbm</th>\n",
       "    </tr>\n",
       "  </thead>\n",
       "  <tbody>\n",
       "    <tr>\n",
       "      <th>RMSE</th>\n",
       "      <td>0.086939</td>\n",
       "      <td>0.020245</td>\n",
       "      <td>0.019549</td>\n",
       "      <td>0.017949</td>\n",
       "      <td>0.017506</td>\n",
       "      <td>0.017499</td>\n",
       "      <td>0.017204</td>\n",
       "      <td>0.016049</td>\n",
       "      <td>0.016048</td>\n",
       "      <td>0.016037</td>\n",
       "      <td>0.014156</td>\n",
       "    </tr>\n",
       "  </tbody>\n",
       "</table>\n",
       "</div>"
      ],
      "text/plain": [
       "      support vector     lasso   xgboost  random forest  catboost  \\\n",
       "RMSE        0.086939  0.020245  0.019549       0.017949  0.017506   \n",
       "\n",
       "      gradient boosting       knn    Linear     ridge  bayesian ridge  \\\n",
       "RMSE           0.017499  0.017204  0.016049  0.016048        0.016037   \n",
       "\n",
       "      lightgbm  \n",
       "RMSE  0.014156  "
      ]
     },
     "execution_count": 62,
     "metadata": {},
     "output_type": "execute_result"
    }
   ],
   "source": [
    "results_df = pd.DataFrame(results, index=range(0,1)).T.rename(columns={0: 'RMSE'}).sort_values('RMSE', ascending=False)\n",
    "results_df.T"
   ]
  },
  {
   "cell_type": "code",
   "execution_count": 63,
   "id": "b1e907cc",
   "metadata": {
    "execution": {
     "iopub.execute_input": "2022-10-11T20:33:58.161413Z",
     "iopub.status.busy": "2022-10-11T20:33:58.160971Z",
     "iopub.status.idle": "2022-10-11T20:33:58.458212Z",
     "shell.execute_reply": "2022-10-11T20:33:58.456974Z"
    },
    "papermill": {
     "duration": 0.330627,
     "end_time": "2022-10-11T20:33:58.460828",
     "exception": false,
     "start_time": "2022-10-11T20:33:58.130201",
     "status": "completed"
    },
    "tags": []
   },
   "outputs": [
    {
     "data": {
      "image/png": "[encoded data removed]",
      "text/plain": [
       "<Figure size 1080x360 with 1 Axes>"
      ]
     },
     "metadata": {
      "needs_background": "light"
     },
     "output_type": "display_data"
    }
   ],
   "source": [
    "plt.figure(figsize = (15, 5))\n",
    "sns.barplot(x= results_df.index, y = results_df['RMSE'], palette = 'winter')\n",
    "plt.ylim(0,0.1)\n",
    "plt.xlabel('Model')\n",
    "plt.ylabel('RMSE')\n",
    "plt.title('RMSE of different models');"
   ]
  },
  {
   "cell_type": "markdown",
   "id": "488c7b03",
   "metadata": {
    "papermill": {
     "duration": 0.029285,
     "end_time": "2022-10-11T20:33:58.519713",
     "exception": false,
     "start_time": "2022-10-11T20:33:58.490428",
     "status": "completed"
    },
    "tags": []
   },
   "source": [
    "***Defining the Method in order to get the r2_score of each Model on Test Data and Based\n",
    "# on that,We will select our Model***"
   ]
  },
  {
   "cell_type": "code",
   "execution_count": 64,
   "id": "f9f9cc53",
   "metadata": {
    "execution": {
     "iopub.execute_input": "2022-10-11T20:33:58.583446Z",
     "iopub.status.busy": "2022-10-11T20:33:58.583007Z",
     "iopub.status.idle": "2022-10-11T20:33:58.590048Z",
     "shell.execute_reply": "2022-10-11T20:33:58.588635Z"
    },
    "papermill": {
     "duration": 0.042881,
     "end_time": "2022-10-11T20:33:58.592599",
     "exception": false,
     "start_time": "2022-10-11T20:33:58.549718",
     "status": "completed"
    },
    "tags": []
   },
   "outputs": [],
   "source": [
    "\n",
    "\n",
    "def prediction(model,X_train,y_train,X_test,y_test):\n",
    "    model.fit(X_train,y_train)\n",
    "    pred_data=np.exp(model.predict(X_test))\n",
    "    return r2_score(np.exp(y_test),pred_data)"
   ]
  },
  {
   "cell_type": "code",
   "execution_count": 65,
   "id": "ad3d032c",
   "metadata": {
    "execution": {
     "iopub.execute_input": "2022-10-11T20:33:58.657023Z",
     "iopub.status.busy": "2022-10-11T20:33:58.656535Z",
     "iopub.status.idle": "2022-10-11T20:34:02.689155Z",
     "shell.execute_reply": "2022-10-11T20:34:02.687231Z"
    },
    "papermill": {
     "duration": 4.068663,
     "end_time": "2022-10-11T20:34:02.692773",
     "exception": false,
     "start_time": "2022-10-11T20:33:58.624110",
     "status": "completed"
    },
    "tags": []
   },
   "outputs": [
    {
     "name": "stdout",
     "output_type": "stream",
     "text": [
      "Linear r2_score is 0.4389670897310588\n",
      "ridge r2_score is 0.438942860686074\n",
      "xgboost r2_score is 0.4262832828206591\n",
      "catboost r2_score is 0.48083628061488615\n",
      "lightgbm r2_score is 0.6127910816992097\n",
      "gradient boosting r2_score is 0.6194135849273206\n",
      "lasso r2_score is -7.546012042114469e-06\n",
      "random forest r2_score is 0.4195159912611581\n",
      "bayesian ridge r2_score is 0.4373230275672848\n",
      "support vector r2_score is -20.241897522520127\n",
      "knn r2_score is 0.25718859392380766\n"
     ]
    }
   ],
   "source": [
    "for name,model in models.items():\n",
    "    score=prediction(model,X_train,y_train,X_test,y_test)\n",
    "    print(f'{name} r2_score is {score}')"
   ]
  },
  {
   "cell_type": "markdown",
   "id": "1b90367e",
   "metadata": {
    "papermill": {
     "duration": 0.030021,
     "end_time": "2022-10-11T20:34:02.754196",
     "exception": false,
     "start_time": "2022-10-11T20:34:02.724175",
     "status": "completed"
    },
    "tags": []
   },
   "source": [
    "***#we will try for linear and lightgbm boosting.***#Error of the Predicted Y with the True Y\n"
   ]
  },
  {
   "cell_type": "markdown",
   "id": "c8f90232",
   "metadata": {
    "papermill": {
     "duration": 0.029577,
     "end_time": "2022-10-11T20:34:02.813752",
     "exception": false,
     "start_time": "2022-10-11T20:34:02.784175",
     "status": "completed"
    },
    "tags": []
   },
   "source": [
    "*** Error of the Predicted Y with the True Y\n",
    "***"
   ]
  },
  {
   "cell_type": "code",
   "execution_count": 66,
   "id": "9a423dd8",
   "metadata": {
    "execution": {
     "iopub.execute_input": "2022-10-11T20:34:02.875229Z",
     "iopub.status.busy": "2022-10-11T20:34:02.874824Z",
     "iopub.status.idle": "2022-10-11T20:34:03.479982Z",
     "shell.execute_reply": "2022-10-11T20:34:03.478663Z"
    },
    "papermill": {
     "duration": 0.638875,
     "end_time": "2022-10-11T20:34:03.482480",
     "exception": false,
     "start_time": "2022-10-11T20:34:02.843605",
     "status": "completed"
    },
    "tags": []
   },
   "outputs": [
    {
     "data": {
      "image/png": "[encoded data removed]",
      "text/plain": [
       "<Figure size 432x288 with 1 Axes>"
      ]
     },
     "metadata": {
      "needs_background": "light"
     },
     "output_type": "display_data"
    }
   ],
   "source": [
    "model=LinearRegression()\n",
    "model.fit(X_train,y_train)\n",
    "pred_y=np.exp(model.predict(X_test))\n",
    "sns.histplot(np.exp(y_test)-pred_y)\n",
    "plt.xlim(-0.1,0.1)\n",
    "plt.ylim(0,80)\n",
    "plt.show()"
   ]
  },
  {
   "cell_type": "code",
   "execution_count": 67,
   "id": "8cecb485",
   "metadata": {
    "execution": {
     "iopub.execute_input": "2022-10-11T20:34:03.544204Z",
     "iopub.status.busy": "2022-10-11T20:34:03.543776Z",
     "iopub.status.idle": "2022-10-11T20:34:05.238903Z",
     "shell.execute_reply": "2022-10-11T20:34:05.237725Z"
    },
    "papermill": {
     "duration": 1.728697,
     "end_time": "2022-10-11T20:34:05.241252",
     "exception": false,
     "start_time": "2022-10-11T20:34:03.512555",
     "status": "completed"
    },
    "tags": []
   },
   "outputs": [
    {
     "data": {
      "image/png": "[encoded data removed]",
      "text/plain": [
       "<Figure size 432x288 with 1 Axes>"
      ]
     },
     "metadata": {
      "needs_background": "light"
     },
     "output_type": "display_data"
    }
   ],
   "source": [
    "model=LGBMRegressor()\n",
    "model.fit(X_train,y_train)\n",
    "pred_y=np.exp(model.predict(X_test))\n",
    "sns.histplot(np.exp(y_test)-pred_y)\n",
    "plt.xlim(-0.1,0.1)\n",
    "plt.ylim(0,80)\n",
    "plt.show()"
   ]
  },
  {
   "cell_type": "markdown",
   "id": "fffbe6d5",
   "metadata": {
    "papermill": {
     "duration": 0.031619,
     "end_time": "2022-10-11T20:34:05.303988",
     "exception": false,
     "start_time": "2022-10-11T20:34:05.272369",
     "status": "completed"
    },
    "tags": []
   },
   "source": [
    "*** Applying Voting Ensemble on the 3 Models\n",
    "***"
   ]
  },
  {
   "cell_type": "code",
   "execution_count": 68,
   "id": "29d95fc0",
   "metadata": {
    "execution": {
     "iopub.execute_input": "2022-10-11T20:34:05.370112Z",
     "iopub.status.busy": "2022-10-11T20:34:05.369693Z",
     "iopub.status.idle": "2022-10-11T20:34:07.434037Z",
     "shell.execute_reply": "2022-10-11T20:34:07.433094Z"
    },
    "papermill": {
     "duration": 2.100792,
     "end_time": "2022-10-11T20:34:07.436548",
     "exception": false,
     "start_time": "2022-10-11T20:34:05.335756",
     "status": "completed"
    },
    "tags": []
   },
   "outputs": [
    {
     "name": "stdout",
     "output_type": "stream",
     "text": [
      "0.58\n"
     ]
    }
   ],
   "source": [
    "from sklearn.ensemble import VotingRegressor\n",
    "estimators=[('lr',LinearRegression()),('lgbm',LGBMRegressor())]\n",
    "vc=VotingRegressor(estimators=estimators)\n",
    "x=cross_val_score(vc,X_train,y_train,cv=10,scoring='r2')\n",
    "print(np.round(np.mean(x),2))"
   ]
  },
  {
   "cell_type": "markdown",
   "id": "032f58b5",
   "metadata": {
    "papermill": {
     "duration": 0.032789,
     "end_time": "2022-10-11T20:34:07.504556",
     "exception": false,
     "start_time": "2022-10-11T20:34:07.471767",
     "status": "completed"
    },
    "tags": []
   },
   "source": [
    "*** Fitting the Model\n",
    "***"
   ]
  },
  {
   "cell_type": "code",
   "execution_count": 69,
   "id": "0c94bd9a",
   "metadata": {
    "execution": {
     "iopub.execute_input": "2022-10-11T20:34:07.571155Z",
     "iopub.status.busy": "2022-10-11T20:34:07.570013Z",
     "iopub.status.idle": "2022-10-11T20:34:07.784774Z",
     "shell.execute_reply": "2022-10-11T20:34:07.783631Z"
    },
    "papermill": {
     "duration": 0.251198,
     "end_time": "2022-10-11T20:34:07.787886",
     "exception": false,
     "start_time": "2022-10-11T20:34:07.536688",
     "status": "completed"
    },
    "tags": []
   },
   "outputs": [
    {
     "data": {
      "text/plain": [
       "VotingRegressor(estimators=[('lr', LinearRegression()),\n",
       "                            ('lgbm', LGBMRegressor())])"
      ]
     },
     "execution_count": 69,
     "metadata": {},
     "output_type": "execute_result"
    }
   ],
   "source": [
    "vc.fit(X_train,y_train)"
   ]
  },
  {
   "cell_type": "code",
   "execution_count": 70,
   "id": "72244c80",
   "metadata": {
    "execution": {
     "iopub.execute_input": "2022-10-11T20:34:07.860264Z",
     "iopub.status.busy": "2022-10-11T20:34:07.859004Z",
     "iopub.status.idle": "2022-10-11T20:34:07.888018Z",
     "shell.execute_reply": "2022-10-11T20:34:07.885128Z"
    },
    "papermill": {
     "duration": 0.068124,
     "end_time": "2022-10-11T20:34:07.890895",
     "exception": false,
     "start_time": "2022-10-11T20:34:07.822771",
     "status": "completed"
    },
    "tags": []
   },
   "outputs": [
    {
     "name": "stdout",
     "output_type": "stream",
     "text": [
      "0.5998697162939679\n"
     ]
    }
   ],
   "source": [
    "pred_y=vc.predict(X_test)\n",
    "print(r2_score(np.exp(y_test),np.exp(pred_y)))"
   ]
  },
  {
   "cell_type": "markdown",
   "id": "97ddabbd",
   "metadata": {
    "papermill": {
     "duration": 0.038023,
     "end_time": "2022-10-11T20:34:08.011182",
     "exception": false,
     "start_time": "2022-10-11T20:34:07.973159",
     "status": "completed"
    },
    "tags": []
   },
   "source": [
    "***#only linear reg 0.43. linear reg+lgbm = 0.599=0.6***"
   ]
  },
  {
   "cell_type": "code",
   "execution_count": null,
   "id": "629b3704",
   "metadata": {
    "papermill": {
     "duration": 0.030801,
     "end_time": "2022-10-11T20:34:08.073146",
     "exception": false,
     "start_time": "2022-10-11T20:34:08.042345",
     "status": "completed"
    },
    "tags": []
   },
   "outputs": [],
   "source": []
  }
 ],
 "metadata": {
  "kernelspec": {
   "display_name": "Python 3 (ipykernel)",
   "language": "python",
   "name": "python3"
  },
  "language_info": {
   "codemirror_mode": {
    "name": "ipython",
    "version": 3
   },
   "file_extension": ".py",
   "mimetype": "text/x-python",
   "name": "python",
   "nbconvert_exporter": "python",
   "pygments_lexer": "ipython3",
   "version": "3.9.7"
  },
  "papermill": {
   "default_parameters": {},
   "duration": 81.131987,
   "end_time": "2022-10-11T20:34:09.229942",
   "environment_variables": {},
   "exception": null,
   "input_path": "__notebook__.ipynb",
   "output_path": "__notebook__.ipynb",
   "parameters": {},
   "start_time": "2022-10-11T20:32:48.097955",
   "version": "2.3.4"
  }
 },
 "nbformat": 4,
 "nbformat_minor": 5
}
